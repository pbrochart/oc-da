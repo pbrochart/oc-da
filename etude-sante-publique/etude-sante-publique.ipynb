{
 "cells": [
  {
   "cell_type": "markdown",
   "id": "e7316a32",
   "metadata": {},
   "source": [
    "<div style=\" background-color: RGB(0,114,200);\" >\n",
    "<h1 style=\"margin: auto; padding: 20px 0; color:#fff; text-align: center\">PROJET 4 DATA ANALYST</h1>\n",
    "<h2 style=\"margin: auto; padding: 20px 0; color:#fff; text-align: center\">Réalisez une étude de santé publique avec R ou Python\n",
    "</h2>\n",
    "</div>"
   ]
  },
  {
   "cell_type": "markdown",
   "id": "6e00fa8a",
   "metadata": {},
   "source": [
    "# OBJECTIF DE CE NOTEBOOK\n",
    "\n",
    "Bienvenue dans l'outil plébiscité par les analystes de données Jupyter.\n",
    "\n",
    "Il s'agit d'un outil permettant de mixer et d'alterner codes, textes et graphique.\n",
    "\n",
    "Cet outil est formidable pour plusieurs raisons:\n",
    "\n",
    "+ il permet de tester des lignes de codes au fur et à mesure de votre rédaction, de constater immédiatement le résultat d'un instruction, de la corriger si nécessaire.\n",
    "+ De rédiger du texte pour expliquer l'approche suivie ou les résultats d'une analyse et de le mettre en forme grâce à du code html ou plus simple avec **Markdown**\n",
    "+ d'agrémenter de graphiques\n",
    "\n",
    "Pour vous aider dans vos premiers pas à l'usage de Jupyter et de Python, nous avons rédigé ce notebook en vous indiquant les instructions à suivre.\n",
    "\n",
    "Il vous suffit pour cela de saisir le code Python répondant à l'instruction donnée.\n",
    "\n",
    "Vous verrez de temps à autre le code Python répondant à une instruction donnée mais cela est fait pour vous aider à comprendre la nature du travail qui vous est demandée.\n",
    "\n",
    "Et garder à l'esprit, qu'il n'y a pas de solution unique pour résoudre un problème et qu'il y a autant de résolutions de problèmes que de développeurs ;)...\n",
    "\n"
   ]
  },
  {
   "cell_type": "markdown",
   "id": "c33bcf57",
   "metadata": {},
   "source": [
    "Note jeremy \n",
    "Est ce qu'il faut faire le calcul de la sous nutrition sur les pays qu'on a ? \n",
    "Est ce qu'il faut faire des graphiques ?\n",
    "Rajouter le soja\n",
    "La liste des céréales est difficile a trouver ..."
   ]
  },
  {
   "cell_type": "markdown",
   "id": "9dad8326",
   "metadata": {},
   "source": [
    "<div style=\"background-color: RGB(0,150,250);\" >\n",
    "<h2 style=\"margin: auto; padding: 20px; color:#fff; \">Etape 1 - Importation des librairies et chargement des fichiers</h2>\n",
    "</div>"
   ]
  },
  {
   "cell_type": "markdown",
   "id": "4ee69457",
   "metadata": {},
   "source": [
    "<div style=\"border: 1px solid RGB(0,150,250);\" >\n",
    "<h3 style=\"margin: auto; padding: 20px; color: RGB(0,150,250); \">1.1 - Importation des librairies</h3>\n",
    "</div>"
   ]
  },
  {
   "cell_type": "code",
   "execution_count": 1,
   "id": "ffe62b56",
   "metadata": {},
   "outputs": [],
   "source": [
    "#Importation de la librairie Pandas\n",
    "import pandas as pd\n",
    "#Importation de la librairie Seaborn\n",
    "import seaborn as sns\n",
    "#Importation de la librairie Numpy\n",
    "import numpy as np\n",
    "#Importation de la librairie Pyplot\n",
    "from matplotlib import pyplot as plt"
   ]
  },
  {
   "cell_type": "markdown",
   "id": "8bd8e7ed",
   "metadata": {},
   "source": [
    "<div style=\"border: 1px solid RGB(0,150,250);\" >\n",
    "<h3 style=\"margin: auto; padding: 20px; color: RGB(0,150,250); \">1.2 - Chargement des fichiers Excel</h3>\n",
    "</div>"
   ]
  },
  {
   "cell_type": "code",
   "execution_count": 2,
   "id": "b304f108",
   "metadata": {},
   "outputs": [],
   "source": [
    "#Importation du fichier population.csv\n",
    "population = pd.read_csv('population.csv')\n",
    "\n",
    "#Importation du fichier dispo_alimentaire.csv\n",
    "dispo_alimentaire = pd.read_csv('dispo_alimentaire.csv')\n",
    "\n",
    "#Importation du fichier aide_alimentaire.csv\n",
    "aide_alimentaire = pd.read_csv('aide_alimentaire.csv')\n",
    "\n",
    "#Importation du fichier sous_nutrition.csv\n",
    "sous_nutrition = pd.read_csv('sous_nutrition.csv')"
   ]
  },
  {
   "cell_type": "markdown",
   "id": "1249847a",
   "metadata": {},
   "source": [
    "<div style=\"background-color: RGB(0,150,250);\" >\n",
    "<h2 style=\"margin: auto; padding: 20px; color:#fff; \">Etape 2 - Analyse exploratoire des fichiers</h2>\n",
    "</div>"
   ]
  },
  {
   "cell_type": "markdown",
   "id": "235e6e91",
   "metadata": {},
   "source": [
    "<div style=\"border: 1px solid RGB(0,150,250);\" >\n",
    "<h3 style=\"margin: auto; padding: 20px; color: RGB(0,150,250); \">2.1 - Analyse exploratoire du fichier population</h3>\n",
    "</div>"
   ]
  },
  {
   "cell_type": "code",
   "execution_count": 3,
   "id": "e6b639d2",
   "metadata": {},
   "outputs": [
    {
     "name": "stdout",
     "output_type": "stream",
     "text": [
      "Le tableau comporte 1416 observation(s) ou article(s)\n",
      "Le tableau comporte 3 colonne(s)\n"
     ]
    }
   ],
   "source": [
    "#Afficher les dimensions du dataset\n",
    "print(\"Le tableau comporte {} observation(s) ou article(s)\".format(population.shape[0]))\n",
    "print(\"Le tableau comporte {} colonne(s)\".format(population.shape[1]))"
   ]
  },
  {
   "cell_type": "code",
   "execution_count": 4,
   "id": "fbbdfd5c",
   "metadata": {},
   "outputs": [
    {
     "name": "stdout",
     "output_type": "stream",
     "text": [
      "Le nombre de colonnes est 3\n",
      "Le type de données dans chacune de colonnes est: \n",
      "Zone       object\n",
      "Année       int64\n",
      "Valeur    float64\n",
      "Le nombre de valeurs présentes dans chacune des colonnes est: \n",
      "Zone      1416\n",
      "Année     1416\n",
      "Valeur    1416\n"
     ]
    }
   ],
   "source": [
    "#Consulter le nombre de colonnes\n",
    "print(\"Le nombre de colonnes est {}\".format(len(population.columns)))\n",
    "#La nature des données dans chacune des colonnes\n",
    "print(\"Le type de données dans chacune de colonnes est: \\n{}\".format(population.dtypes.to_string(header=None)))\n",
    "#Le nombre de valeurs présentes dans chacune des colonnes\n",
    "print(\"Le nombre de valeurs présentes dans chacune des colonnes est: \\n{}\".format(population.count().to_string(header=None)))"
   ]
  },
  {
   "cell_type": "code",
   "execution_count": 5,
   "id": "3e50d9e6",
   "metadata": {
    "scrolled": true
   },
   "outputs": [
    {
     "data": {
      "text/html": [
       "<div>\n",
       "<style scoped>\n",
       "    .dataframe tbody tr th:only-of-type {\n",
       "        vertical-align: middle;\n",
       "    }\n",
       "\n",
       "    .dataframe tbody tr th {\n",
       "        vertical-align: top;\n",
       "    }\n",
       "\n",
       "    .dataframe thead th {\n",
       "        text-align: right;\n",
       "    }\n",
       "</style>\n",
       "<table border=\"1\" class=\"dataframe\">\n",
       "  <thead>\n",
       "    <tr style=\"text-align: right;\">\n",
       "      <th></th>\n",
       "      <th>Zone</th>\n",
       "      <th>Année</th>\n",
       "      <th>Valeur</th>\n",
       "    </tr>\n",
       "  </thead>\n",
       "  <tbody>\n",
       "    <tr>\n",
       "      <th>0</th>\n",
       "      <td>Afghanistan</td>\n",
       "      <td>2013</td>\n",
       "      <td>32269.589</td>\n",
       "    </tr>\n",
       "    <tr>\n",
       "      <th>1</th>\n",
       "      <td>Afghanistan</td>\n",
       "      <td>2014</td>\n",
       "      <td>33370.794</td>\n",
       "    </tr>\n",
       "    <tr>\n",
       "      <th>2</th>\n",
       "      <td>Afghanistan</td>\n",
       "      <td>2015</td>\n",
       "      <td>34413.603</td>\n",
       "    </tr>\n",
       "    <tr>\n",
       "      <th>3</th>\n",
       "      <td>Afghanistan</td>\n",
       "      <td>2016</td>\n",
       "      <td>35383.032</td>\n",
       "    </tr>\n",
       "    <tr>\n",
       "      <th>4</th>\n",
       "      <td>Afghanistan</td>\n",
       "      <td>2017</td>\n",
       "      <td>36296.113</td>\n",
       "    </tr>\n",
       "  </tbody>\n",
       "</table>\n",
       "</div>"
      ],
      "text/plain": [
       "          Zone  Année     Valeur\n",
       "0  Afghanistan   2013  32269.589\n",
       "1  Afghanistan   2014  33370.794\n",
       "2  Afghanistan   2015  34413.603\n",
       "3  Afghanistan   2016  35383.032\n",
       "4  Afghanistan   2017  36296.113"
      ]
     },
     "execution_count": 5,
     "metadata": {},
     "output_type": "execute_result"
    }
   ],
   "source": [
    "#Affichage les 5 premières lignes de la table\n",
    "population.head(5)\n"
   ]
  },
  {
   "cell_type": "code",
   "execution_count": 6,
   "id": "ab1a4af4",
   "metadata": {},
   "outputs": [],
   "source": [
    "#Nous allons harmoniser les unités. Pour cela, nous avons décidé de multiplier la population par 1000\n",
    "#Multiplication de la colonne valeur par 1000\n",
    "population['Valeur'] = population['Valeur'].mul(1000)"
   ]
  },
  {
   "cell_type": "code",
   "execution_count": 7,
   "id": "38836b61",
   "metadata": {},
   "outputs": [],
   "source": [
    "#changement du nom de la colonne Valeur par Population\n",
    "population.rename(columns={\"Valeur\": \"Population\"}, inplace=True)"
   ]
  },
  {
   "cell_type": "code",
   "execution_count": 8,
   "id": "ff707561",
   "metadata": {},
   "outputs": [
    {
     "data": {
      "text/html": [
       "<div>\n",
       "<style scoped>\n",
       "    .dataframe tbody tr th:only-of-type {\n",
       "        vertical-align: middle;\n",
       "    }\n",
       "\n",
       "    .dataframe tbody tr th {\n",
       "        vertical-align: top;\n",
       "    }\n",
       "\n",
       "    .dataframe thead th {\n",
       "        text-align: right;\n",
       "    }\n",
       "</style>\n",
       "<table border=\"1\" class=\"dataframe\">\n",
       "  <thead>\n",
       "    <tr style=\"text-align: right;\">\n",
       "      <th></th>\n",
       "      <th>Zone</th>\n",
       "      <th>Année</th>\n",
       "      <th>Population</th>\n",
       "    </tr>\n",
       "  </thead>\n",
       "  <tbody>\n",
       "    <tr>\n",
       "      <th>0</th>\n",
       "      <td>Afghanistan</td>\n",
       "      <td>2013</td>\n",
       "      <td>32269589.0</td>\n",
       "    </tr>\n",
       "    <tr>\n",
       "      <th>1</th>\n",
       "      <td>Afghanistan</td>\n",
       "      <td>2014</td>\n",
       "      <td>33370794.0</td>\n",
       "    </tr>\n",
       "    <tr>\n",
       "      <th>2</th>\n",
       "      <td>Afghanistan</td>\n",
       "      <td>2015</td>\n",
       "      <td>34413603.0</td>\n",
       "    </tr>\n",
       "    <tr>\n",
       "      <th>3</th>\n",
       "      <td>Afghanistan</td>\n",
       "      <td>2016</td>\n",
       "      <td>35383032.0</td>\n",
       "    </tr>\n",
       "    <tr>\n",
       "      <th>4</th>\n",
       "      <td>Afghanistan</td>\n",
       "      <td>2017</td>\n",
       "      <td>36296113.0</td>\n",
       "    </tr>\n",
       "  </tbody>\n",
       "</table>\n",
       "</div>"
      ],
      "text/plain": [
       "          Zone  Année  Population\n",
       "0  Afghanistan   2013  32269589.0\n",
       "1  Afghanistan   2014  33370794.0\n",
       "2  Afghanistan   2015  34413603.0\n",
       "3  Afghanistan   2016  35383032.0\n",
       "4  Afghanistan   2017  36296113.0"
      ]
     },
     "execution_count": 8,
     "metadata": {},
     "output_type": "execute_result"
    }
   ],
   "source": [
    "#Affichage les 5 premières lignes de la table pour voir les modifications\n",
    "population.head(5)"
   ]
  },
  {
   "cell_type": "markdown",
   "id": "4224b896",
   "metadata": {},
   "source": [
    "<div style=\"border: 1px solid RGB(0,150,250);\" >\n",
    "<h3 style=\"margin: auto; padding: 20px; color: RGB(0,150,250); \">2.2 - Analyse exploratoire du fichier disponibilité alimentaire</h3>\n",
    "</div>"
   ]
  },
  {
   "cell_type": "code",
   "execution_count": 9,
   "id": "38f5b838",
   "metadata": {},
   "outputs": [
    {
     "name": "stdout",
     "output_type": "stream",
     "text": [
      "Le tableau comporte 15605 observation(s) ou article(s)\n",
      "Le tableau comporte 18 colonne(s)\n"
     ]
    }
   ],
   "source": [
    "#Afficher les dimensions du dataset\n",
    "print(\"Le tableau comporte {} observation(s) ou article(s)\".format(dispo_alimentaire.shape[0]))\n",
    "print(\"Le tableau comporte {} colonne(s)\".format(dispo_alimentaire.shape[1]))"
   ]
  },
  {
   "cell_type": "code",
   "execution_count": 10,
   "id": "99735a22",
   "metadata": {},
   "outputs": [
    {
     "name": "stdout",
     "output_type": "stream",
     "text": [
      "Le nombre de colonnes est 18\n"
     ]
    }
   ],
   "source": [
    "#Consulter le nombre de colonnes\n",
    "print(\"Le nombre de colonnes est {}\".format(len(dispo_alimentaire.columns)))"
   ]
  },
  {
   "cell_type": "code",
   "execution_count": 11,
   "id": "0058032d",
   "metadata": {},
   "outputs": [
    {
     "data": {
      "text/html": [
       "<div>\n",
       "<style scoped>\n",
       "    .dataframe tbody tr th:only-of-type {\n",
       "        vertical-align: middle;\n",
       "    }\n",
       "\n",
       "    .dataframe tbody tr th {\n",
       "        vertical-align: top;\n",
       "    }\n",
       "\n",
       "    .dataframe thead th {\n",
       "        text-align: right;\n",
       "    }\n",
       "</style>\n",
       "<table border=\"1\" class=\"dataframe\">\n",
       "  <thead>\n",
       "    <tr style=\"text-align: right;\">\n",
       "      <th></th>\n",
       "      <th>Zone</th>\n",
       "      <th>Produit</th>\n",
       "      <th>Origine</th>\n",
       "      <th>Aliments pour animaux</th>\n",
       "      <th>Autres Utilisations</th>\n",
       "      <th>Disponibilité alimentaire (Kcal/personne/jour)</th>\n",
       "      <th>Disponibilité alimentaire en quantité (kg/personne/an)</th>\n",
       "      <th>Disponibilité de matière grasse en quantité (g/personne/jour)</th>\n",
       "      <th>Disponibilité de protéines en quantité (g/personne/jour)</th>\n",
       "      <th>Disponibilité intérieure</th>\n",
       "      <th>Exportations - Quantité</th>\n",
       "      <th>Importations - Quantité</th>\n",
       "      <th>Nourriture</th>\n",
       "      <th>Pertes</th>\n",
       "      <th>Production</th>\n",
       "      <th>Semences</th>\n",
       "      <th>Traitement</th>\n",
       "      <th>Variation de stock</th>\n",
       "    </tr>\n",
       "  </thead>\n",
       "  <tbody>\n",
       "    <tr>\n",
       "      <th>0</th>\n",
       "      <td>Afghanistan</td>\n",
       "      <td>Abats Comestible</td>\n",
       "      <td>animale</td>\n",
       "      <td>NaN</td>\n",
       "      <td>NaN</td>\n",
       "      <td>5.0</td>\n",
       "      <td>1.72</td>\n",
       "      <td>0.20</td>\n",
       "      <td>0.77</td>\n",
       "      <td>53.0</td>\n",
       "      <td>NaN</td>\n",
       "      <td>NaN</td>\n",
       "      <td>53.0</td>\n",
       "      <td>NaN</td>\n",
       "      <td>53.0</td>\n",
       "      <td>NaN</td>\n",
       "      <td>NaN</td>\n",
       "      <td>NaN</td>\n",
       "    </tr>\n",
       "    <tr>\n",
       "      <th>1</th>\n",
       "      <td>Afghanistan</td>\n",
       "      <td>Agrumes, Autres</td>\n",
       "      <td>vegetale</td>\n",
       "      <td>NaN</td>\n",
       "      <td>NaN</td>\n",
       "      <td>1.0</td>\n",
       "      <td>1.29</td>\n",
       "      <td>0.01</td>\n",
       "      <td>0.02</td>\n",
       "      <td>41.0</td>\n",
       "      <td>2.0</td>\n",
       "      <td>40.0</td>\n",
       "      <td>39.0</td>\n",
       "      <td>2.0</td>\n",
       "      <td>3.0</td>\n",
       "      <td>NaN</td>\n",
       "      <td>NaN</td>\n",
       "      <td>NaN</td>\n",
       "    </tr>\n",
       "    <tr>\n",
       "      <th>2</th>\n",
       "      <td>Afghanistan</td>\n",
       "      <td>Aliments pour enfants</td>\n",
       "      <td>vegetale</td>\n",
       "      <td>NaN</td>\n",
       "      <td>NaN</td>\n",
       "      <td>1.0</td>\n",
       "      <td>0.06</td>\n",
       "      <td>0.01</td>\n",
       "      <td>0.03</td>\n",
       "      <td>2.0</td>\n",
       "      <td>NaN</td>\n",
       "      <td>2.0</td>\n",
       "      <td>2.0</td>\n",
       "      <td>NaN</td>\n",
       "      <td>NaN</td>\n",
       "      <td>NaN</td>\n",
       "      <td>NaN</td>\n",
       "      <td>NaN</td>\n",
       "    </tr>\n",
       "    <tr>\n",
       "      <th>3</th>\n",
       "      <td>Afghanistan</td>\n",
       "      <td>Ananas</td>\n",
       "      <td>vegetale</td>\n",
       "      <td>NaN</td>\n",
       "      <td>NaN</td>\n",
       "      <td>0.0</td>\n",
       "      <td>0.00</td>\n",
       "      <td>NaN</td>\n",
       "      <td>NaN</td>\n",
       "      <td>0.0</td>\n",
       "      <td>NaN</td>\n",
       "      <td>0.0</td>\n",
       "      <td>0.0</td>\n",
       "      <td>NaN</td>\n",
       "      <td>NaN</td>\n",
       "      <td>NaN</td>\n",
       "      <td>NaN</td>\n",
       "      <td>NaN</td>\n",
       "    </tr>\n",
       "    <tr>\n",
       "      <th>4</th>\n",
       "      <td>Afghanistan</td>\n",
       "      <td>Bananes</td>\n",
       "      <td>vegetale</td>\n",
       "      <td>NaN</td>\n",
       "      <td>NaN</td>\n",
       "      <td>4.0</td>\n",
       "      <td>2.70</td>\n",
       "      <td>0.02</td>\n",
       "      <td>0.05</td>\n",
       "      <td>82.0</td>\n",
       "      <td>NaN</td>\n",
       "      <td>82.0</td>\n",
       "      <td>82.0</td>\n",
       "      <td>NaN</td>\n",
       "      <td>NaN</td>\n",
       "      <td>NaN</td>\n",
       "      <td>NaN</td>\n",
       "      <td>NaN</td>\n",
       "    </tr>\n",
       "  </tbody>\n",
       "</table>\n",
       "</div>"
      ],
      "text/plain": [
       "          Zone                Produit   Origine  Aliments pour animaux  \\\n",
       "0  Afghanistan       Abats Comestible   animale                    NaN   \n",
       "1  Afghanistan        Agrumes, Autres  vegetale                    NaN   \n",
       "2  Afghanistan  Aliments pour enfants  vegetale                    NaN   \n",
       "3  Afghanistan                 Ananas  vegetale                    NaN   \n",
       "4  Afghanistan                Bananes  vegetale                    NaN   \n",
       "\n",
       "   Autres Utilisations  Disponibilité alimentaire (Kcal/personne/jour)  \\\n",
       "0                  NaN                                             5.0   \n",
       "1                  NaN                                             1.0   \n",
       "2                  NaN                                             1.0   \n",
       "3                  NaN                                             0.0   \n",
       "4                  NaN                                             4.0   \n",
       "\n",
       "   Disponibilité alimentaire en quantité (kg/personne/an)  \\\n",
       "0                                               1.72        \n",
       "1                                               1.29        \n",
       "2                                               0.06        \n",
       "3                                               0.00        \n",
       "4                                               2.70        \n",
       "\n",
       "   Disponibilité de matière grasse en quantité (g/personne/jour)  \\\n",
       "0                                               0.20               \n",
       "1                                               0.01               \n",
       "2                                               0.01               \n",
       "3                                                NaN               \n",
       "4                                               0.02               \n",
       "\n",
       "   Disponibilité de protéines en quantité (g/personne/jour)  \\\n",
       "0                                               0.77          \n",
       "1                                               0.02          \n",
       "2                                               0.03          \n",
       "3                                                NaN          \n",
       "4                                               0.05          \n",
       "\n",
       "   Disponibilité intérieure  Exportations - Quantité  Importations - Quantité  \\\n",
       "0                      53.0                      NaN                      NaN   \n",
       "1                      41.0                      2.0                     40.0   \n",
       "2                       2.0                      NaN                      2.0   \n",
       "3                       0.0                      NaN                      0.0   \n",
       "4                      82.0                      NaN                     82.0   \n",
       "\n",
       "   Nourriture  Pertes  Production  Semences  Traitement  Variation de stock  \n",
       "0        53.0     NaN        53.0       NaN         NaN                 NaN  \n",
       "1        39.0     2.0         3.0       NaN         NaN                 NaN  \n",
       "2         2.0     NaN         NaN       NaN         NaN                 NaN  \n",
       "3         0.0     NaN         NaN       NaN         NaN                 NaN  \n",
       "4        82.0     NaN         NaN       NaN         NaN                 NaN  "
      ]
     },
     "execution_count": 11,
     "metadata": {},
     "output_type": "execute_result"
    }
   ],
   "source": [
    "#Affichage les 5 premières lignes de la table\n",
    "dispo_alimentaire.head(5)"
   ]
  },
  {
   "cell_type": "code",
   "execution_count": 12,
   "id": "f3832569",
   "metadata": {},
   "outputs": [],
   "source": [
    "#remplacement des NaN dans le dataset par des 0\n",
    "dispo_alimentaire.fillna(0, inplace=True)"
   ]
  },
  {
   "cell_type": "code",
   "execution_count": 13,
   "id": "db4432e3",
   "metadata": {},
   "outputs": [],
   "source": [
    "#multiplication de toutes les lignes contenant des milliers de tonnes en Kg\n",
    "dispo_alimentaire.iloc[:,np.r_[3,4,9:17]] = dispo_alimentaire.iloc[:,np.r_[3,4,9:17]].mul(1000).mul(1000)"
   ]
  },
  {
   "cell_type": "code",
   "execution_count": 14,
   "id": "7f1689bf",
   "metadata": {},
   "outputs": [
    {
     "data": {
      "text/html": [
       "<div>\n",
       "<style scoped>\n",
       "    .dataframe tbody tr th:only-of-type {\n",
       "        vertical-align: middle;\n",
       "    }\n",
       "\n",
       "    .dataframe tbody tr th {\n",
       "        vertical-align: top;\n",
       "    }\n",
       "\n",
       "    .dataframe thead th {\n",
       "        text-align: right;\n",
       "    }\n",
       "</style>\n",
       "<table border=\"1\" class=\"dataframe\">\n",
       "  <thead>\n",
       "    <tr style=\"text-align: right;\">\n",
       "      <th></th>\n",
       "      <th>Zone</th>\n",
       "      <th>Produit</th>\n",
       "      <th>Origine</th>\n",
       "      <th>Aliments pour animaux</th>\n",
       "      <th>Autres Utilisations</th>\n",
       "      <th>Disponibilité alimentaire (Kcal/personne/jour)</th>\n",
       "      <th>Disponibilité alimentaire en quantité (kg/personne/an)</th>\n",
       "      <th>Disponibilité de matière grasse en quantité (g/personne/jour)</th>\n",
       "      <th>Disponibilité de protéines en quantité (g/personne/jour)</th>\n",
       "      <th>Disponibilité intérieure</th>\n",
       "      <th>Exportations - Quantité</th>\n",
       "      <th>Importations - Quantité</th>\n",
       "      <th>Nourriture</th>\n",
       "      <th>Pertes</th>\n",
       "      <th>Production</th>\n",
       "      <th>Semences</th>\n",
       "      <th>Traitement</th>\n",
       "      <th>Variation de stock</th>\n",
       "    </tr>\n",
       "  </thead>\n",
       "  <tbody>\n",
       "    <tr>\n",
       "      <th>0</th>\n",
       "      <td>Afghanistan</td>\n",
       "      <td>Abats Comestible</td>\n",
       "      <td>animale</td>\n",
       "      <td>0.0</td>\n",
       "      <td>0.0</td>\n",
       "      <td>5.0</td>\n",
       "      <td>1.72</td>\n",
       "      <td>0.20</td>\n",
       "      <td>0.77</td>\n",
       "      <td>53000000.0</td>\n",
       "      <td>0.0</td>\n",
       "      <td>0.0</td>\n",
       "      <td>53000000.0</td>\n",
       "      <td>0.0</td>\n",
       "      <td>53000000.0</td>\n",
       "      <td>0.0</td>\n",
       "      <td>0.0</td>\n",
       "      <td>0.0</td>\n",
       "    </tr>\n",
       "    <tr>\n",
       "      <th>1</th>\n",
       "      <td>Afghanistan</td>\n",
       "      <td>Agrumes, Autres</td>\n",
       "      <td>vegetale</td>\n",
       "      <td>0.0</td>\n",
       "      <td>0.0</td>\n",
       "      <td>1.0</td>\n",
       "      <td>1.29</td>\n",
       "      <td>0.01</td>\n",
       "      <td>0.02</td>\n",
       "      <td>41000000.0</td>\n",
       "      <td>2000000.0</td>\n",
       "      <td>40000000.0</td>\n",
       "      <td>39000000.0</td>\n",
       "      <td>2000000.0</td>\n",
       "      <td>3000000.0</td>\n",
       "      <td>0.0</td>\n",
       "      <td>0.0</td>\n",
       "      <td>0.0</td>\n",
       "    </tr>\n",
       "    <tr>\n",
       "      <th>2</th>\n",
       "      <td>Afghanistan</td>\n",
       "      <td>Aliments pour enfants</td>\n",
       "      <td>vegetale</td>\n",
       "      <td>0.0</td>\n",
       "      <td>0.0</td>\n",
       "      <td>1.0</td>\n",
       "      <td>0.06</td>\n",
       "      <td>0.01</td>\n",
       "      <td>0.03</td>\n",
       "      <td>2000000.0</td>\n",
       "      <td>0.0</td>\n",
       "      <td>2000000.0</td>\n",
       "      <td>2000000.0</td>\n",
       "      <td>0.0</td>\n",
       "      <td>0.0</td>\n",
       "      <td>0.0</td>\n",
       "      <td>0.0</td>\n",
       "      <td>0.0</td>\n",
       "    </tr>\n",
       "    <tr>\n",
       "      <th>3</th>\n",
       "      <td>Afghanistan</td>\n",
       "      <td>Ananas</td>\n",
       "      <td>vegetale</td>\n",
       "      <td>0.0</td>\n",
       "      <td>0.0</td>\n",
       "      <td>0.0</td>\n",
       "      <td>0.00</td>\n",
       "      <td>0.00</td>\n",
       "      <td>0.00</td>\n",
       "      <td>0.0</td>\n",
       "      <td>0.0</td>\n",
       "      <td>0.0</td>\n",
       "      <td>0.0</td>\n",
       "      <td>0.0</td>\n",
       "      <td>0.0</td>\n",
       "      <td>0.0</td>\n",
       "      <td>0.0</td>\n",
       "      <td>0.0</td>\n",
       "    </tr>\n",
       "    <tr>\n",
       "      <th>4</th>\n",
       "      <td>Afghanistan</td>\n",
       "      <td>Bananes</td>\n",
       "      <td>vegetale</td>\n",
       "      <td>0.0</td>\n",
       "      <td>0.0</td>\n",
       "      <td>4.0</td>\n",
       "      <td>2.70</td>\n",
       "      <td>0.02</td>\n",
       "      <td>0.05</td>\n",
       "      <td>82000000.0</td>\n",
       "      <td>0.0</td>\n",
       "      <td>82000000.0</td>\n",
       "      <td>82000000.0</td>\n",
       "      <td>0.0</td>\n",
       "      <td>0.0</td>\n",
       "      <td>0.0</td>\n",
       "      <td>0.0</td>\n",
       "      <td>0.0</td>\n",
       "    </tr>\n",
       "  </tbody>\n",
       "</table>\n",
       "</div>"
      ],
      "text/plain": [
       "          Zone                Produit   Origine  Aliments pour animaux  \\\n",
       "0  Afghanistan       Abats Comestible   animale                    0.0   \n",
       "1  Afghanistan        Agrumes, Autres  vegetale                    0.0   \n",
       "2  Afghanistan  Aliments pour enfants  vegetale                    0.0   \n",
       "3  Afghanistan                 Ananas  vegetale                    0.0   \n",
       "4  Afghanistan                Bananes  vegetale                    0.0   \n",
       "\n",
       "   Autres Utilisations  Disponibilité alimentaire (Kcal/personne/jour)  \\\n",
       "0                  0.0                                             5.0   \n",
       "1                  0.0                                             1.0   \n",
       "2                  0.0                                             1.0   \n",
       "3                  0.0                                             0.0   \n",
       "4                  0.0                                             4.0   \n",
       "\n",
       "   Disponibilité alimentaire en quantité (kg/personne/an)  \\\n",
       "0                                               1.72        \n",
       "1                                               1.29        \n",
       "2                                               0.06        \n",
       "3                                               0.00        \n",
       "4                                               2.70        \n",
       "\n",
       "   Disponibilité de matière grasse en quantité (g/personne/jour)  \\\n",
       "0                                               0.20               \n",
       "1                                               0.01               \n",
       "2                                               0.01               \n",
       "3                                               0.00               \n",
       "4                                               0.02               \n",
       "\n",
       "   Disponibilité de protéines en quantité (g/personne/jour)  \\\n",
       "0                                               0.77          \n",
       "1                                               0.02          \n",
       "2                                               0.03          \n",
       "3                                               0.00          \n",
       "4                                               0.05          \n",
       "\n",
       "   Disponibilité intérieure  Exportations - Quantité  Importations - Quantité  \\\n",
       "0                53000000.0                      0.0                      0.0   \n",
       "1                41000000.0                2000000.0               40000000.0   \n",
       "2                 2000000.0                      0.0                2000000.0   \n",
       "3                       0.0                      0.0                      0.0   \n",
       "4                82000000.0                      0.0               82000000.0   \n",
       "\n",
       "   Nourriture     Pertes  Production  Semences  Traitement  Variation de stock  \n",
       "0  53000000.0        0.0  53000000.0       0.0         0.0                 0.0  \n",
       "1  39000000.0  2000000.0   3000000.0       0.0         0.0                 0.0  \n",
       "2   2000000.0        0.0         0.0       0.0         0.0                 0.0  \n",
       "3         0.0        0.0         0.0       0.0         0.0                 0.0  \n",
       "4  82000000.0        0.0         0.0       0.0         0.0                 0.0  "
      ]
     },
     "execution_count": 14,
     "metadata": {},
     "output_type": "execute_result"
    }
   ],
   "source": [
    "#Affichage les 5 premières lignes de la table\n",
    "dispo_alimentaire.head(5)"
   ]
  },
  {
   "cell_type": "markdown",
   "id": "a09233e4",
   "metadata": {},
   "source": [
    "<div style=\"border: 1px solid RGB(0,150,250);\" >\n",
    "<h3 style=\"margin: auto; padding: 20px; color: RGB(0,150,250); \">2.3 - Analyse exploratoire du fichier aide alimentaire</h3>\n",
    "</div>"
   ]
  },
  {
   "cell_type": "code",
   "execution_count": 15,
   "id": "702f6322",
   "metadata": {},
   "outputs": [
    {
     "name": "stdout",
     "output_type": "stream",
     "text": [
      "Le tableau comporte 1475 observation(s) ou article(s)\n",
      "Le tableau comporte 4 colonne(s)\n"
     ]
    }
   ],
   "source": [
    "#Afficher les dimensions du dataset\n",
    "print(\"Le tableau comporte {} observation(s) ou article(s)\".format(aide_alimentaire.shape[0]))\n",
    "print(\"Le tableau comporte {} colonne(s)\".format(aide_alimentaire.shape[1]))"
   ]
  },
  {
   "cell_type": "code",
   "execution_count": 16,
   "id": "8fead3f9",
   "metadata": {},
   "outputs": [
    {
     "name": "stdout",
     "output_type": "stream",
     "text": [
      "Le nombre de colonnes est 4\n"
     ]
    }
   ],
   "source": [
    "#Consulter le nombre de colonnes\n",
    "print(\"Le nombre de colonnes est {}\".format(len(aide_alimentaire.columns)))"
   ]
  },
  {
   "cell_type": "code",
   "execution_count": 17,
   "id": "443ec245",
   "metadata": {},
   "outputs": [
    {
     "data": {
      "text/html": [
       "<div>\n",
       "<style scoped>\n",
       "    .dataframe tbody tr th:only-of-type {\n",
       "        vertical-align: middle;\n",
       "    }\n",
       "\n",
       "    .dataframe tbody tr th {\n",
       "        vertical-align: top;\n",
       "    }\n",
       "\n",
       "    .dataframe thead th {\n",
       "        text-align: right;\n",
       "    }\n",
       "</style>\n",
       "<table border=\"1\" class=\"dataframe\">\n",
       "  <thead>\n",
       "    <tr style=\"text-align: right;\">\n",
       "      <th></th>\n",
       "      <th>Pays bénéficiaire</th>\n",
       "      <th>Année</th>\n",
       "      <th>Produit</th>\n",
       "      <th>Valeur</th>\n",
       "    </tr>\n",
       "  </thead>\n",
       "  <tbody>\n",
       "    <tr>\n",
       "      <th>0</th>\n",
       "      <td>Afghanistan</td>\n",
       "      <td>2013</td>\n",
       "      <td>Autres non-céréales</td>\n",
       "      <td>682</td>\n",
       "    </tr>\n",
       "    <tr>\n",
       "      <th>1</th>\n",
       "      <td>Afghanistan</td>\n",
       "      <td>2014</td>\n",
       "      <td>Autres non-céréales</td>\n",
       "      <td>335</td>\n",
       "    </tr>\n",
       "    <tr>\n",
       "      <th>2</th>\n",
       "      <td>Afghanistan</td>\n",
       "      <td>2013</td>\n",
       "      <td>Blé et Farin</td>\n",
       "      <td>39224</td>\n",
       "    </tr>\n",
       "    <tr>\n",
       "      <th>3</th>\n",
       "      <td>Afghanistan</td>\n",
       "      <td>2014</td>\n",
       "      <td>Blé et Farin</td>\n",
       "      <td>15160</td>\n",
       "    </tr>\n",
       "    <tr>\n",
       "      <th>4</th>\n",
       "      <td>Afghanistan</td>\n",
       "      <td>2013</td>\n",
       "      <td>Céréales</td>\n",
       "      <td>40504</td>\n",
       "    </tr>\n",
       "  </tbody>\n",
       "</table>\n",
       "</div>"
      ],
      "text/plain": [
       "  Pays bénéficiaire  Année              Produit  Valeur\n",
       "0       Afghanistan   2013  Autres non-céréales     682\n",
       "1       Afghanistan   2014  Autres non-céréales     335\n",
       "2       Afghanistan   2013         Blé et Farin   39224\n",
       "3       Afghanistan   2014         Blé et Farin   15160\n",
       "4       Afghanistan   2013             Céréales   40504"
      ]
     },
     "execution_count": 17,
     "metadata": {},
     "output_type": "execute_result"
    }
   ],
   "source": [
    "#Affichage les 5 premières lignes de la table\n",
    "aide_alimentaire.head(5)"
   ]
  },
  {
   "cell_type": "code",
   "execution_count": 18,
   "id": "af47212b",
   "metadata": {},
   "outputs": [],
   "source": [
    "#changement du nom de la colonne Pays bénéficiaire par Zone\n",
    "aide_alimentaire.rename(columns={\"Pays bénéficiaire\": \"Zone\"}, inplace=True)"
   ]
  },
  {
   "cell_type": "code",
   "execution_count": 19,
   "id": "c32cd1d8",
   "metadata": {},
   "outputs": [],
   "source": [
    "#Multiplication de la colonne Aide_alimentaire qui contient des tonnes par 1000 pour avoir des kg\n",
    "aide_alimentaire['Valeur'] = aide_alimentaire['Valeur'].mul(1000)"
   ]
  },
  {
   "cell_type": "code",
   "execution_count": 20,
   "id": "d951d8df",
   "metadata": {},
   "outputs": [
    {
     "data": {
      "text/html": [
       "<div>\n",
       "<style scoped>\n",
       "    .dataframe tbody tr th:only-of-type {\n",
       "        vertical-align: middle;\n",
       "    }\n",
       "\n",
       "    .dataframe tbody tr th {\n",
       "        vertical-align: top;\n",
       "    }\n",
       "\n",
       "    .dataframe thead th {\n",
       "        text-align: right;\n",
       "    }\n",
       "</style>\n",
       "<table border=\"1\" class=\"dataframe\">\n",
       "  <thead>\n",
       "    <tr style=\"text-align: right;\">\n",
       "      <th></th>\n",
       "      <th>Zone</th>\n",
       "      <th>Année</th>\n",
       "      <th>Produit</th>\n",
       "      <th>Valeur</th>\n",
       "    </tr>\n",
       "  </thead>\n",
       "  <tbody>\n",
       "    <tr>\n",
       "      <th>0</th>\n",
       "      <td>Afghanistan</td>\n",
       "      <td>2013</td>\n",
       "      <td>Autres non-céréales</td>\n",
       "      <td>682000</td>\n",
       "    </tr>\n",
       "    <tr>\n",
       "      <th>1</th>\n",
       "      <td>Afghanistan</td>\n",
       "      <td>2014</td>\n",
       "      <td>Autres non-céréales</td>\n",
       "      <td>335000</td>\n",
       "    </tr>\n",
       "    <tr>\n",
       "      <th>2</th>\n",
       "      <td>Afghanistan</td>\n",
       "      <td>2013</td>\n",
       "      <td>Blé et Farin</td>\n",
       "      <td>39224000</td>\n",
       "    </tr>\n",
       "    <tr>\n",
       "      <th>3</th>\n",
       "      <td>Afghanistan</td>\n",
       "      <td>2014</td>\n",
       "      <td>Blé et Farin</td>\n",
       "      <td>15160000</td>\n",
       "    </tr>\n",
       "    <tr>\n",
       "      <th>4</th>\n",
       "      <td>Afghanistan</td>\n",
       "      <td>2013</td>\n",
       "      <td>Céréales</td>\n",
       "      <td>40504000</td>\n",
       "    </tr>\n",
       "  </tbody>\n",
       "</table>\n",
       "</div>"
      ],
      "text/plain": [
       "          Zone  Année              Produit    Valeur\n",
       "0  Afghanistan   2013  Autres non-céréales    682000\n",
       "1  Afghanistan   2014  Autres non-céréales    335000\n",
       "2  Afghanistan   2013         Blé et Farin  39224000\n",
       "3  Afghanistan   2014         Blé et Farin  15160000\n",
       "4  Afghanistan   2013             Céréales  40504000"
      ]
     },
     "execution_count": 20,
     "metadata": {},
     "output_type": "execute_result"
    }
   ],
   "source": [
    "#Affichage les 5 premières lignes de la table\n",
    "aide_alimentaire.head(5)"
   ]
  },
  {
   "cell_type": "markdown",
   "id": "eeae9043",
   "metadata": {},
   "source": [
    "<div style=\"border: 1px solid RGB(0,150,250);\" >\n",
    "<h3 style=\"margin: auto; padding: 20px; color: RGB(0,150,250); \">2.3 - Analyse exploratoire du fichier sous nutrition</h3>\n",
    "</div>"
   ]
  },
  {
   "cell_type": "code",
   "execution_count": 21,
   "id": "882add3d",
   "metadata": {},
   "outputs": [
    {
     "name": "stdout",
     "output_type": "stream",
     "text": [
      "Le tableau comporte 1218 observation(s) ou article(s)\n",
      "Le tableau comporte 3 colonne(s)\n"
     ]
    }
   ],
   "source": [
    "#Afficher les dimensions du dataset\n",
    "print(\"Le tableau comporte {} observation(s) ou article(s)\".format(sous_nutrition.shape[0]))\n",
    "print(\"Le tableau comporte {} colonne(s)\".format(sous_nutrition.shape[1]))"
   ]
  },
  {
   "cell_type": "code",
   "execution_count": 22,
   "id": "70c1a7a9",
   "metadata": {},
   "outputs": [
    {
     "name": "stdout",
     "output_type": "stream",
     "text": [
      "Le nombre de colonnes est 3\n"
     ]
    }
   ],
   "source": [
    "#Consulter le nombre de colonnes\n",
    "print(\"Le nombre de colonnes est {}\".format(len(sous_nutrition.columns)))"
   ]
  },
  {
   "cell_type": "code",
   "execution_count": 23,
   "id": "5c6469e5",
   "metadata": {},
   "outputs": [
    {
     "data": {
      "text/html": [
       "<div>\n",
       "<style scoped>\n",
       "    .dataframe tbody tr th:only-of-type {\n",
       "        vertical-align: middle;\n",
       "    }\n",
       "\n",
       "    .dataframe tbody tr th {\n",
       "        vertical-align: top;\n",
       "    }\n",
       "\n",
       "    .dataframe thead th {\n",
       "        text-align: right;\n",
       "    }\n",
       "</style>\n",
       "<table border=\"1\" class=\"dataframe\">\n",
       "  <thead>\n",
       "    <tr style=\"text-align: right;\">\n",
       "      <th></th>\n",
       "      <th>Zone</th>\n",
       "      <th>Année</th>\n",
       "      <th>Valeur</th>\n",
       "    </tr>\n",
       "  </thead>\n",
       "  <tbody>\n",
       "    <tr>\n",
       "      <th>0</th>\n",
       "      <td>Afghanistan</td>\n",
       "      <td>2012-2014</td>\n",
       "      <td>8.6</td>\n",
       "    </tr>\n",
       "    <tr>\n",
       "      <th>1</th>\n",
       "      <td>Afghanistan</td>\n",
       "      <td>2013-2015</td>\n",
       "      <td>8.8</td>\n",
       "    </tr>\n",
       "    <tr>\n",
       "      <th>2</th>\n",
       "      <td>Afghanistan</td>\n",
       "      <td>2014-2016</td>\n",
       "      <td>8.9</td>\n",
       "    </tr>\n",
       "    <tr>\n",
       "      <th>3</th>\n",
       "      <td>Afghanistan</td>\n",
       "      <td>2015-2017</td>\n",
       "      <td>9.7</td>\n",
       "    </tr>\n",
       "    <tr>\n",
       "      <th>4</th>\n",
       "      <td>Afghanistan</td>\n",
       "      <td>2016-2018</td>\n",
       "      <td>10.5</td>\n",
       "    </tr>\n",
       "  </tbody>\n",
       "</table>\n",
       "</div>"
      ],
      "text/plain": [
       "          Zone      Année Valeur\n",
       "0  Afghanistan  2012-2014    8.6\n",
       "1  Afghanistan  2013-2015    8.8\n",
       "2  Afghanistan  2014-2016    8.9\n",
       "3  Afghanistan  2015-2017    9.7\n",
       "4  Afghanistan  2016-2018   10.5"
      ]
     },
     "execution_count": 23,
     "metadata": {},
     "output_type": "execute_result"
    }
   ],
   "source": [
    "#Afficher les 5 premières lignes de la table\n",
    "sous_nutrition.head(5)"
   ]
  },
  {
   "cell_type": "code",
   "execution_count": 24,
   "id": "11b6a6c8",
   "metadata": {},
   "outputs": [
    {
     "ename": "ValueError",
     "evalue": "Unable to parse string \"<0.1\" at position 60",
     "output_type": "error",
     "traceback": [
      "\u001b[0;31m---------------------------------------------------------------------------\u001b[0m",
      "\u001b[0;31mValueError\u001b[0m                                Traceback (most recent call last)",
      "File \u001b[0;32m~/jupyter/lib/python3.11/site-packages/pandas/_libs/lib.pyx:2369\u001b[0m, in \u001b[0;36mpandas._libs.lib.maybe_convert_numeric\u001b[0;34m()\u001b[0m\n",
      "\u001b[0;31mValueError\u001b[0m: Unable to parse string \"<0.1\"",
      "\nDuring handling of the above exception, another exception occurred:\n",
      "\u001b[0;31mValueError\u001b[0m                                Traceback (most recent call last)",
      "Cell \u001b[0;32mIn[24], line 2\u001b[0m\n\u001b[1;32m      1\u001b[0m \u001b[38;5;66;03m#Conversion de la colonne sous nutrition en numérique\u001b[39;00m\n\u001b[0;32m----> 2\u001b[0m sous_nutrition[\u001b[38;5;124m'\u001b[39m\u001b[38;5;124mValeur\u001b[39m\u001b[38;5;124m'\u001b[39m] \u001b[38;5;241m=\u001b[39m \u001b[43mpd\u001b[49m\u001b[38;5;241;43m.\u001b[39;49m\u001b[43mto_numeric\u001b[49m\u001b[43m(\u001b[49m\u001b[43msous_nutrition\u001b[49m\u001b[43m[\u001b[49m\u001b[38;5;124;43m'\u001b[39;49m\u001b[38;5;124;43mValeur\u001b[39;49m\u001b[38;5;124;43m'\u001b[39;49m\u001b[43m]\u001b[49m\u001b[43m)\u001b[49m\n",
      "File \u001b[0;32m~/jupyter/lib/python3.11/site-packages/pandas/core/tools/numeric.py:185\u001b[0m, in \u001b[0;36mto_numeric\u001b[0;34m(arg, errors, downcast)\u001b[0m\n\u001b[1;32m    183\u001b[0m coerce_numeric \u001b[38;5;241m=\u001b[39m errors \u001b[38;5;129;01mnot\u001b[39;00m \u001b[38;5;129;01min\u001b[39;00m (\u001b[38;5;124m\"\u001b[39m\u001b[38;5;124mignore\u001b[39m\u001b[38;5;124m\"\u001b[39m, \u001b[38;5;124m\"\u001b[39m\u001b[38;5;124mraise\u001b[39m\u001b[38;5;124m\"\u001b[39m)\n\u001b[1;32m    184\u001b[0m \u001b[38;5;28;01mtry\u001b[39;00m:\n\u001b[0;32m--> 185\u001b[0m     values, _ \u001b[38;5;241m=\u001b[39m \u001b[43mlib\u001b[49m\u001b[38;5;241;43m.\u001b[39;49m\u001b[43mmaybe_convert_numeric\u001b[49m\u001b[43m(\u001b[49m\n\u001b[1;32m    186\u001b[0m \u001b[43m        \u001b[49m\u001b[43mvalues\u001b[49m\u001b[43m,\u001b[49m\u001b[43m \u001b[49m\u001b[38;5;28;43mset\u001b[39;49m\u001b[43m(\u001b[49m\u001b[43m)\u001b[49m\u001b[43m,\u001b[49m\u001b[43m \u001b[49m\u001b[43mcoerce_numeric\u001b[49m\u001b[38;5;241;43m=\u001b[39;49m\u001b[43mcoerce_numeric\u001b[49m\n\u001b[1;32m    187\u001b[0m \u001b[43m    \u001b[49m\u001b[43m)\u001b[49m\n\u001b[1;32m    188\u001b[0m \u001b[38;5;28;01mexcept\u001b[39;00m (\u001b[38;5;167;01mValueError\u001b[39;00m, \u001b[38;5;167;01mTypeError\u001b[39;00m):\n\u001b[1;32m    189\u001b[0m     \u001b[38;5;28;01mif\u001b[39;00m errors \u001b[38;5;241m==\u001b[39m \u001b[38;5;124m\"\u001b[39m\u001b[38;5;124mraise\u001b[39m\u001b[38;5;124m\"\u001b[39m:\n",
      "File \u001b[0;32m~/jupyter/lib/python3.11/site-packages/pandas/_libs/lib.pyx:2411\u001b[0m, in \u001b[0;36mpandas._libs.lib.maybe_convert_numeric\u001b[0;34m()\u001b[0m\n",
      "\u001b[0;31mValueError\u001b[0m: Unable to parse string \"<0.1\" at position 60"
     ]
    }
   ],
   "source": [
    "#Conversion de la colonne sous nutrition en numérique\n",
    "sous_nutrition['Valeur'] = pd.to_numeric(sous_nutrition['Valeur'])"
   ]
  },
  {
   "cell_type": "code",
   "execution_count": 25,
   "id": "d31d2724",
   "metadata": {},
   "outputs": [],
   "source": [
    "#Conversion de la colonne (avec l'argument errors=coerce qui permet de convertir automatiquement les lignes qui ne sont pas des nombres en NaN)\n",
    "#Puis remplacement des NaN en 0\n",
    "sous_nutrition['Valeur'] = pd.to_numeric(sous_nutrition['Valeur'], errors='coerce')\n",
    "sous_nutrition['Valeur'] = sous_nutrition['Valeur'].fillna(0)"
   ]
  },
  {
   "cell_type": "code",
   "execution_count": 26,
   "id": "34c98232",
   "metadata": {},
   "outputs": [],
   "source": [
    "#changement du nom de la colonne Valeur par sous_nutrition\n",
    "sous_nutrition.rename(columns={\"Valeur\": \"sous_nutrition\"}, inplace=True)"
   ]
  },
  {
   "cell_type": "code",
   "execution_count": 27,
   "id": "002110fa",
   "metadata": {},
   "outputs": [],
   "source": [
    "#Multiplication de la colonne sous_nutrition par 1000000\n",
    "sous_nutrition['sous_nutrition'] = sous_nutrition['sous_nutrition'].mul(1000000)"
   ]
  },
  {
   "cell_type": "code",
   "execution_count": 28,
   "id": "58259b55",
   "metadata": {},
   "outputs": [
    {
     "data": {
      "text/html": [
       "<div>\n",
       "<style scoped>\n",
       "    .dataframe tbody tr th:only-of-type {\n",
       "        vertical-align: middle;\n",
       "    }\n",
       "\n",
       "    .dataframe tbody tr th {\n",
       "        vertical-align: top;\n",
       "    }\n",
       "\n",
       "    .dataframe thead th {\n",
       "        text-align: right;\n",
       "    }\n",
       "</style>\n",
       "<table border=\"1\" class=\"dataframe\">\n",
       "  <thead>\n",
       "    <tr style=\"text-align: right;\">\n",
       "      <th></th>\n",
       "      <th>Zone</th>\n",
       "      <th>Année</th>\n",
       "      <th>sous_nutrition</th>\n",
       "    </tr>\n",
       "  </thead>\n",
       "  <tbody>\n",
       "    <tr>\n",
       "      <th>0</th>\n",
       "      <td>Afghanistan</td>\n",
       "      <td>2012-2014</td>\n",
       "      <td>8600000.0</td>\n",
       "    </tr>\n",
       "    <tr>\n",
       "      <th>1</th>\n",
       "      <td>Afghanistan</td>\n",
       "      <td>2013-2015</td>\n",
       "      <td>8800000.0</td>\n",
       "    </tr>\n",
       "    <tr>\n",
       "      <th>2</th>\n",
       "      <td>Afghanistan</td>\n",
       "      <td>2014-2016</td>\n",
       "      <td>8900000.0</td>\n",
       "    </tr>\n",
       "    <tr>\n",
       "      <th>3</th>\n",
       "      <td>Afghanistan</td>\n",
       "      <td>2015-2017</td>\n",
       "      <td>9700000.0</td>\n",
       "    </tr>\n",
       "    <tr>\n",
       "      <th>4</th>\n",
       "      <td>Afghanistan</td>\n",
       "      <td>2016-2018</td>\n",
       "      <td>10500000.0</td>\n",
       "    </tr>\n",
       "  </tbody>\n",
       "</table>\n",
       "</div>"
      ],
      "text/plain": [
       "          Zone      Année  sous_nutrition\n",
       "0  Afghanistan  2012-2014       8600000.0\n",
       "1  Afghanistan  2013-2015       8800000.0\n",
       "2  Afghanistan  2014-2016       8900000.0\n",
       "3  Afghanistan  2015-2017       9700000.0\n",
       "4  Afghanistan  2016-2018      10500000.0"
      ]
     },
     "execution_count": 28,
     "metadata": {},
     "output_type": "execute_result"
    }
   ],
   "source": [
    "#Afficher les 5 premières lignes de la table\n",
    "sous_nutrition.head(5)"
   ]
  },
  {
   "cell_type": "markdown",
   "id": "df6dcabd",
   "metadata": {},
   "source": [
    "<div style=\"border: 1px solid RGB(0,150,250);\" >\n",
    "<h3 style=\"margin: auto; padding: 20px; color: RGB(0,150,250); \">3.1 - Proportion de personnes en sous nutrition</h3>\n",
    "</div>"
   ]
  },
  {
   "cell_type": "code",
   "execution_count": 29,
   "id": "a63e1567",
   "metadata": {},
   "outputs": [],
   "source": [
    "# Il faut tout d'abord faire une jointure entre la table population et la table sous nutrition, en ciblant l'année 2017\n",
    "sous_nutrition['Année'] = sous_nutrition['Année'].str.split('-').apply(lambda x : (int(x[0])+int(x[1]))/2)\n",
    "ds = pd.merge(population, sous_nutrition, on=\"Année\")"
   ]
  },
  {
   "cell_type": "code",
   "execution_count": 30,
   "id": "731eea39",
   "metadata": {},
   "outputs": [
    {
     "data": {
      "text/html": [
       "<div>\n",
       "<style scoped>\n",
       "    .dataframe tbody tr th:only-of-type {\n",
       "        vertical-align: middle;\n",
       "    }\n",
       "\n",
       "    .dataframe tbody tr th {\n",
       "        vertical-align: top;\n",
       "    }\n",
       "\n",
       "    .dataframe thead th {\n",
       "        text-align: right;\n",
       "    }\n",
       "</style>\n",
       "<table border=\"1\" class=\"dataframe\">\n",
       "  <thead>\n",
       "    <tr style=\"text-align: right;\">\n",
       "      <th></th>\n",
       "      <th>Zone_x</th>\n",
       "      <th>Année</th>\n",
       "      <th>Population</th>\n",
       "      <th>Zone_y</th>\n",
       "      <th>sous_nutrition</th>\n",
       "    </tr>\n",
       "  </thead>\n",
       "  <tbody>\n",
       "    <tr>\n",
       "      <th>191632</th>\n",
       "      <td>Afghanistan</td>\n",
       "      <td>2017</td>\n",
       "      <td>36296113.0</td>\n",
       "      <td>Afghanistan</td>\n",
       "      <td>10500000.0</td>\n",
       "    </tr>\n",
       "    <tr>\n",
       "      <th>191633</th>\n",
       "      <td>Afghanistan</td>\n",
       "      <td>2017</td>\n",
       "      <td>36296113.0</td>\n",
       "      <td>Afrique du Sud</td>\n",
       "      <td>3100000.0</td>\n",
       "    </tr>\n",
       "    <tr>\n",
       "      <th>191634</th>\n",
       "      <td>Afghanistan</td>\n",
       "      <td>2017</td>\n",
       "      <td>36296113.0</td>\n",
       "      <td>Albanie</td>\n",
       "      <td>100000.0</td>\n",
       "    </tr>\n",
       "    <tr>\n",
       "      <th>191635</th>\n",
       "      <td>Afghanistan</td>\n",
       "      <td>2017</td>\n",
       "      <td>36296113.0</td>\n",
       "      <td>Algérie</td>\n",
       "      <td>1300000.0</td>\n",
       "    </tr>\n",
       "    <tr>\n",
       "      <th>191636</th>\n",
       "      <td>Afghanistan</td>\n",
       "      <td>2017</td>\n",
       "      <td>36296113.0</td>\n",
       "      <td>Allemagne</td>\n",
       "      <td>0.0</td>\n",
       "    </tr>\n",
       "    <tr>\n",
       "      <th>...</th>\n",
       "      <td>...</td>\n",
       "      <td>...</td>\n",
       "      <td>...</td>\n",
       "      <td>...</td>\n",
       "      <td>...</td>\n",
       "    </tr>\n",
       "    <tr>\n",
       "      <th>239535</th>\n",
       "      <td>Zimbabwe</td>\n",
       "      <td>2017</td>\n",
       "      <td>14236595.0</td>\n",
       "      <td>Venezuela (République bolivarienne du)</td>\n",
       "      <td>8000000.0</td>\n",
       "    </tr>\n",
       "    <tr>\n",
       "      <th>239536</th>\n",
       "      <td>Zimbabwe</td>\n",
       "      <td>2017</td>\n",
       "      <td>14236595.0</td>\n",
       "      <td>Viet Nam</td>\n",
       "      <td>6500000.0</td>\n",
       "    </tr>\n",
       "    <tr>\n",
       "      <th>239537</th>\n",
       "      <td>Zimbabwe</td>\n",
       "      <td>2017</td>\n",
       "      <td>14236595.0</td>\n",
       "      <td>Yémen</td>\n",
       "      <td>0.0</td>\n",
       "    </tr>\n",
       "    <tr>\n",
       "      <th>239538</th>\n",
       "      <td>Zimbabwe</td>\n",
       "      <td>2017</td>\n",
       "      <td>14236595.0</td>\n",
       "      <td>Zambie</td>\n",
       "      <td>0.0</td>\n",
       "    </tr>\n",
       "    <tr>\n",
       "      <th>239539</th>\n",
       "      <td>Zimbabwe</td>\n",
       "      <td>2017</td>\n",
       "      <td>14236595.0</td>\n",
       "      <td>Zimbabwe</td>\n",
       "      <td>0.0</td>\n",
       "    </tr>\n",
       "  </tbody>\n",
       "</table>\n",
       "<p>47908 rows × 5 columns</p>\n",
       "</div>"
      ],
      "text/plain": [
       "             Zone_x  Année  Population  \\\n",
       "191632  Afghanistan   2017  36296113.0   \n",
       "191633  Afghanistan   2017  36296113.0   \n",
       "191634  Afghanistan   2017  36296113.0   \n",
       "191635  Afghanistan   2017  36296113.0   \n",
       "191636  Afghanistan   2017  36296113.0   \n",
       "...             ...    ...         ...   \n",
       "239535     Zimbabwe   2017  14236595.0   \n",
       "239536     Zimbabwe   2017  14236595.0   \n",
       "239537     Zimbabwe   2017  14236595.0   \n",
       "239538     Zimbabwe   2017  14236595.0   \n",
       "239539     Zimbabwe   2017  14236595.0   \n",
       "\n",
       "                                        Zone_y  sous_nutrition  \n",
       "191632                             Afghanistan      10500000.0  \n",
       "191633                          Afrique du Sud       3100000.0  \n",
       "191634                                 Albanie        100000.0  \n",
       "191635                                 Algérie       1300000.0  \n",
       "191636                               Allemagne             0.0  \n",
       "...                                        ...             ...  \n",
       "239535  Venezuela (République bolivarienne du)       8000000.0  \n",
       "239536                                Viet Nam       6500000.0  \n",
       "239537                                   Yémen             0.0  \n",
       "239538                                  Zambie             0.0  \n",
       "239539                                Zimbabwe             0.0  \n",
       "\n",
       "[47908 rows x 5 columns]"
      ]
     },
     "execution_count": 30,
     "metadata": {},
     "output_type": "execute_result"
    }
   ],
   "source": [
    "#Affichage du dataset\n",
    "ds.query('Année == 2017')"
   ]
  },
  {
   "cell_type": "code",
   "execution_count": 31,
   "id": "28e2741f",
   "metadata": {},
   "outputs": [
    {
     "name": "stdout",
     "output_type": "stream",
     "text": [
      "Le nombre de personnes en état de sous nutrition est: 535700000\n",
      "Le pourcentage de personnes en état de sous nutrition par rapport à la population dans le monde est: 7.10%\n"
     ]
    }
   ],
   "source": [
    "#Calcul et affichage du nombre de personnes en état de sous nutrition\n",
    "ds = pd.merge(population, sous_nutrition, on=[\"Zone\", \"Année\"])\n",
    "ds_filter = ds[ds.Année == 2017]\n",
    "ds_filter_region = ds_filter.groupby(['Zone']).agg(sous_nutrition=('sous_nutrition', 'sum'), population=('Population', 'mean'))\n",
    "ds_psn = ds_filter_region['sous_nutrition'].sum().astype(int)\n",
    "ds_pop = ds_filter_region['population'].sum().astype(int)\n",
    "print(\"Le nombre de personnes en état de sous nutrition est: {}\".format(ds_psn))\n",
    "print(\"Le pourcentage de personnes en état de sous nutrition par rapport à la population dans le monde est: {:0.2f}%\".format((ds_psn / ds_pop)*100))"
   ]
  },
  {
   "cell_type": "markdown",
   "id": "b4134a24",
   "metadata": {},
   "source": [
    "<div style=\"border: 1px solid RGB(0,150,250);\" >\n",
    "<h3 style=\"margin: auto; padding: 20px; color: RGB(0,150,250); \">3.2 - Nombre théorique de personne qui pourrait être nourries</h3>\n",
    "</div>"
   ]
  },
  {
   "cell_type": "code",
   "execution_count": 32,
   "id": "2b63df85",
   "metadata": {},
   "outputs": [],
   "source": [
    "#Combien mange en moyenne un être humain ? Source => https://www.la-vie-naturelle.com/\n",
    "#Pour les hommes, le besoin énergétique moyen se situe entre 2400 et 2700 kcal.\n",
    "#Pour les femmes, la recommandation est de 2000 à 2200 kcal.\n",
    "#Il s’agit bien sûr d’une moyenne, cela peut être supérieur ou inférieur selon le profil et les habitudes de vie.\n",
    "#On pourrait le situer en moyenne à 2500 kcal par jour pour un être humain."
   ]
  },
  {
   "cell_type": "code",
   "execution_count": 33,
   "id": "5e3f262d",
   "metadata": {},
   "outputs": [],
   "source": [
    "#On commence par faire une jointure entre le data frame population et Dispo_alimentaire afin d'ajouter dans ce dernier la population\n",
    "df = pd.merge(population, dispo_alimentaire, on=\"Zone\")"
   ]
  },
  {
   "cell_type": "code",
   "execution_count": 34,
   "id": "4538126c",
   "metadata": {},
   "outputs": [
    {
     "data": {
      "text/html": [
       "<div>\n",
       "<style scoped>\n",
       "    .dataframe tbody tr th:only-of-type {\n",
       "        vertical-align: middle;\n",
       "    }\n",
       "\n",
       "    .dataframe tbody tr th {\n",
       "        vertical-align: top;\n",
       "    }\n",
       "\n",
       "    .dataframe thead th {\n",
       "        text-align: right;\n",
       "    }\n",
       "</style>\n",
       "<table border=\"1\" class=\"dataframe\">\n",
       "  <thead>\n",
       "    <tr style=\"text-align: right;\">\n",
       "      <th></th>\n",
       "      <th>Zone</th>\n",
       "      <th>Année</th>\n",
       "      <th>Population</th>\n",
       "      <th>Produit</th>\n",
       "      <th>Origine</th>\n",
       "      <th>Aliments pour animaux</th>\n",
       "      <th>Autres Utilisations</th>\n",
       "      <th>Disponibilité alimentaire (Kcal/personne/jour)</th>\n",
       "      <th>Disponibilité alimentaire en quantité (kg/personne/an)</th>\n",
       "      <th>Disponibilité de matière grasse en quantité (g/personne/jour)</th>\n",
       "      <th>Disponibilité de protéines en quantité (g/personne/jour)</th>\n",
       "      <th>Disponibilité intérieure</th>\n",
       "      <th>Exportations - Quantité</th>\n",
       "      <th>Importations - Quantité</th>\n",
       "      <th>Nourriture</th>\n",
       "      <th>Pertes</th>\n",
       "      <th>Production</th>\n",
       "      <th>Semences</th>\n",
       "      <th>Traitement</th>\n",
       "      <th>Variation de stock</th>\n",
       "    </tr>\n",
       "  </thead>\n",
       "  <tbody>\n",
       "    <tr>\n",
       "      <th>240</th>\n",
       "      <td>Afghanistan</td>\n",
       "      <td>2017</td>\n",
       "      <td>36296113.0</td>\n",
       "      <td>Abats Comestible</td>\n",
       "      <td>animale</td>\n",
       "      <td>0.0</td>\n",
       "      <td>0.0</td>\n",
       "      <td>5.0</td>\n",
       "      <td>1.72</td>\n",
       "      <td>0.20</td>\n",
       "      <td>0.77</td>\n",
       "      <td>53000000.0</td>\n",
       "      <td>0.0</td>\n",
       "      <td>0.0</td>\n",
       "      <td>53000000.0</td>\n",
       "      <td>0.0</td>\n",
       "      <td>53000000.0</td>\n",
       "      <td>0.0</td>\n",
       "      <td>0.0</td>\n",
       "      <td>0.0</td>\n",
       "    </tr>\n",
       "    <tr>\n",
       "      <th>241</th>\n",
       "      <td>Afghanistan</td>\n",
       "      <td>2017</td>\n",
       "      <td>36296113.0</td>\n",
       "      <td>Agrumes, Autres</td>\n",
       "      <td>vegetale</td>\n",
       "      <td>0.0</td>\n",
       "      <td>0.0</td>\n",
       "      <td>1.0</td>\n",
       "      <td>1.29</td>\n",
       "      <td>0.01</td>\n",
       "      <td>0.02</td>\n",
       "      <td>41000000.0</td>\n",
       "      <td>2000000.0</td>\n",
       "      <td>40000000.0</td>\n",
       "      <td>39000000.0</td>\n",
       "      <td>2000000.0</td>\n",
       "      <td>3000000.0</td>\n",
       "      <td>0.0</td>\n",
       "      <td>0.0</td>\n",
       "      <td>0.0</td>\n",
       "    </tr>\n",
       "    <tr>\n",
       "      <th>242</th>\n",
       "      <td>Afghanistan</td>\n",
       "      <td>2017</td>\n",
       "      <td>36296113.0</td>\n",
       "      <td>Aliments pour enfants</td>\n",
       "      <td>vegetale</td>\n",
       "      <td>0.0</td>\n",
       "      <td>0.0</td>\n",
       "      <td>1.0</td>\n",
       "      <td>0.06</td>\n",
       "      <td>0.01</td>\n",
       "      <td>0.03</td>\n",
       "      <td>2000000.0</td>\n",
       "      <td>0.0</td>\n",
       "      <td>2000000.0</td>\n",
       "      <td>2000000.0</td>\n",
       "      <td>0.0</td>\n",
       "      <td>0.0</td>\n",
       "      <td>0.0</td>\n",
       "      <td>0.0</td>\n",
       "      <td>0.0</td>\n",
       "    </tr>\n",
       "    <tr>\n",
       "      <th>243</th>\n",
       "      <td>Afghanistan</td>\n",
       "      <td>2017</td>\n",
       "      <td>36296113.0</td>\n",
       "      <td>Ananas</td>\n",
       "      <td>vegetale</td>\n",
       "      <td>0.0</td>\n",
       "      <td>0.0</td>\n",
       "      <td>0.0</td>\n",
       "      <td>0.00</td>\n",
       "      <td>0.00</td>\n",
       "      <td>0.00</td>\n",
       "      <td>0.0</td>\n",
       "      <td>0.0</td>\n",
       "      <td>0.0</td>\n",
       "      <td>0.0</td>\n",
       "      <td>0.0</td>\n",
       "      <td>0.0</td>\n",
       "      <td>0.0</td>\n",
       "      <td>0.0</td>\n",
       "      <td>0.0</td>\n",
       "    </tr>\n",
       "    <tr>\n",
       "      <th>244</th>\n",
       "      <td>Afghanistan</td>\n",
       "      <td>2017</td>\n",
       "      <td>36296113.0</td>\n",
       "      <td>Bananes</td>\n",
       "      <td>vegetale</td>\n",
       "      <td>0.0</td>\n",
       "      <td>0.0</td>\n",
       "      <td>4.0</td>\n",
       "      <td>2.70</td>\n",
       "      <td>0.02</td>\n",
       "      <td>0.05</td>\n",
       "      <td>82000000.0</td>\n",
       "      <td>0.0</td>\n",
       "      <td>82000000.0</td>\n",
       "      <td>82000000.0</td>\n",
       "      <td>0.0</td>\n",
       "      <td>0.0</td>\n",
       "      <td>0.0</td>\n",
       "      <td>0.0</td>\n",
       "      <td>0.0</td>\n",
       "    </tr>\n",
       "    <tr>\n",
       "      <th>...</th>\n",
       "      <td>...</td>\n",
       "      <td>...</td>\n",
       "      <td>...</td>\n",
       "      <td>...</td>\n",
       "      <td>...</td>\n",
       "      <td>...</td>\n",
       "      <td>...</td>\n",
       "      <td>...</td>\n",
       "      <td>...</td>\n",
       "      <td>...</td>\n",
       "      <td>...</td>\n",
       "      <td>...</td>\n",
       "      <td>...</td>\n",
       "      <td>...</td>\n",
       "      <td>...</td>\n",
       "      <td>...</td>\n",
       "      <td>...</td>\n",
       "      <td>...</td>\n",
       "      <td>...</td>\n",
       "      <td>...</td>\n",
       "    </tr>\n",
       "    <tr>\n",
       "      <th>92399</th>\n",
       "      <td>Zimbabwe</td>\n",
       "      <td>2017</td>\n",
       "      <td>14236595.0</td>\n",
       "      <td>Viande de Suides</td>\n",
       "      <td>animale</td>\n",
       "      <td>0.0</td>\n",
       "      <td>0.0</td>\n",
       "      <td>24.0</td>\n",
       "      <td>2.65</td>\n",
       "      <td>2.25</td>\n",
       "      <td>0.83</td>\n",
       "      <td>37000000.0</td>\n",
       "      <td>0.0</td>\n",
       "      <td>6000000.0</td>\n",
       "      <td>37000000.0</td>\n",
       "      <td>0.0</td>\n",
       "      <td>32000000.0</td>\n",
       "      <td>0.0</td>\n",
       "      <td>0.0</td>\n",
       "      <td>0.0</td>\n",
       "    </tr>\n",
       "    <tr>\n",
       "      <th>92400</th>\n",
       "      <td>Zimbabwe</td>\n",
       "      <td>2017</td>\n",
       "      <td>14236595.0</td>\n",
       "      <td>Viande de Volailles</td>\n",
       "      <td>animale</td>\n",
       "      <td>0.0</td>\n",
       "      <td>0.0</td>\n",
       "      <td>17.0</td>\n",
       "      <td>4.97</td>\n",
       "      <td>1.05</td>\n",
       "      <td>1.69</td>\n",
       "      <td>70000000.0</td>\n",
       "      <td>0.0</td>\n",
       "      <td>6000000.0</td>\n",
       "      <td>70000000.0</td>\n",
       "      <td>0.0</td>\n",
       "      <td>64000000.0</td>\n",
       "      <td>0.0</td>\n",
       "      <td>0.0</td>\n",
       "      <td>0.0</td>\n",
       "    </tr>\n",
       "    <tr>\n",
       "      <th>92401</th>\n",
       "      <td>Zimbabwe</td>\n",
       "      <td>2017</td>\n",
       "      <td>14236595.0</td>\n",
       "      <td>Viande, Autre</td>\n",
       "      <td>animale</td>\n",
       "      <td>0.0</td>\n",
       "      <td>1000000.0</td>\n",
       "      <td>7.0</td>\n",
       "      <td>2.29</td>\n",
       "      <td>0.21</td>\n",
       "      <td>1.12</td>\n",
       "      <td>34000000.0</td>\n",
       "      <td>3000000.0</td>\n",
       "      <td>1000000.0</td>\n",
       "      <td>32000000.0</td>\n",
       "      <td>0.0</td>\n",
       "      <td>36000000.0</td>\n",
       "      <td>0.0</td>\n",
       "      <td>0.0</td>\n",
       "      <td>0.0</td>\n",
       "    </tr>\n",
       "    <tr>\n",
       "      <th>92402</th>\n",
       "      <td>Zimbabwe</td>\n",
       "      <td>2017</td>\n",
       "      <td>14236595.0</td>\n",
       "      <td>Vin</td>\n",
       "      <td>vegetale</td>\n",
       "      <td>0.0</td>\n",
       "      <td>0.0</td>\n",
       "      <td>1.0</td>\n",
       "      <td>0.27</td>\n",
       "      <td>0.00</td>\n",
       "      <td>0.00</td>\n",
       "      <td>4000000.0</td>\n",
       "      <td>0.0</td>\n",
       "      <td>2000000.0</td>\n",
       "      <td>4000000.0</td>\n",
       "      <td>0.0</td>\n",
       "      <td>2000000.0</td>\n",
       "      <td>0.0</td>\n",
       "      <td>0.0</td>\n",
       "      <td>0.0</td>\n",
       "    </tr>\n",
       "    <tr>\n",
       "      <th>92403</th>\n",
       "      <td>Zimbabwe</td>\n",
       "      <td>2017</td>\n",
       "      <td>14236595.0</td>\n",
       "      <td>Épices, Autres</td>\n",
       "      <td>vegetale</td>\n",
       "      <td>0.0</td>\n",
       "      <td>0.0</td>\n",
       "      <td>1.0</td>\n",
       "      <td>0.06</td>\n",
       "      <td>0.02</td>\n",
       "      <td>0.02</td>\n",
       "      <td>1000000.0</td>\n",
       "      <td>0.0</td>\n",
       "      <td>0.0</td>\n",
       "      <td>1000000.0</td>\n",
       "      <td>0.0</td>\n",
       "      <td>1000000.0</td>\n",
       "      <td>0.0</td>\n",
       "      <td>0.0</td>\n",
       "      <td>0.0</td>\n",
       "    </tr>\n",
       "  </tbody>\n",
       "</table>\n",
       "<p>15416 rows × 20 columns</p>\n",
       "</div>"
      ],
      "text/plain": [
       "              Zone  Année  Population                Produit   Origine  \\\n",
       "240    Afghanistan   2017  36296113.0       Abats Comestible   animale   \n",
       "241    Afghanistan   2017  36296113.0        Agrumes, Autres  vegetale   \n",
       "242    Afghanistan   2017  36296113.0  Aliments pour enfants  vegetale   \n",
       "243    Afghanistan   2017  36296113.0                 Ananas  vegetale   \n",
       "244    Afghanistan   2017  36296113.0                Bananes  vegetale   \n",
       "...            ...    ...         ...                    ...       ...   \n",
       "92399     Zimbabwe   2017  14236595.0       Viande de Suides   animale   \n",
       "92400     Zimbabwe   2017  14236595.0    Viande de Volailles   animale   \n",
       "92401     Zimbabwe   2017  14236595.0          Viande, Autre   animale   \n",
       "92402     Zimbabwe   2017  14236595.0                    Vin  vegetale   \n",
       "92403     Zimbabwe   2017  14236595.0         Épices, Autres  vegetale   \n",
       "\n",
       "       Aliments pour animaux  Autres Utilisations  \\\n",
       "240                      0.0                  0.0   \n",
       "241                      0.0                  0.0   \n",
       "242                      0.0                  0.0   \n",
       "243                      0.0                  0.0   \n",
       "244                      0.0                  0.0   \n",
       "...                      ...                  ...   \n",
       "92399                    0.0                  0.0   \n",
       "92400                    0.0                  0.0   \n",
       "92401                    0.0            1000000.0   \n",
       "92402                    0.0                  0.0   \n",
       "92403                    0.0                  0.0   \n",
       "\n",
       "       Disponibilité alimentaire (Kcal/personne/jour)  \\\n",
       "240                                               5.0   \n",
       "241                                               1.0   \n",
       "242                                               1.0   \n",
       "243                                               0.0   \n",
       "244                                               4.0   \n",
       "...                                               ...   \n",
       "92399                                            24.0   \n",
       "92400                                            17.0   \n",
       "92401                                             7.0   \n",
       "92402                                             1.0   \n",
       "92403                                             1.0   \n",
       "\n",
       "       Disponibilité alimentaire en quantité (kg/personne/an)  \\\n",
       "240                                                 1.72        \n",
       "241                                                 1.29        \n",
       "242                                                 0.06        \n",
       "243                                                 0.00        \n",
       "244                                                 2.70        \n",
       "...                                                  ...        \n",
       "92399                                               2.65        \n",
       "92400                                               4.97        \n",
       "92401                                               2.29        \n",
       "92402                                               0.27        \n",
       "92403                                               0.06        \n",
       "\n",
       "       Disponibilité de matière grasse en quantité (g/personne/jour)  \\\n",
       "240                                                 0.20               \n",
       "241                                                 0.01               \n",
       "242                                                 0.01               \n",
       "243                                                 0.00               \n",
       "244                                                 0.02               \n",
       "...                                                  ...               \n",
       "92399                                               2.25               \n",
       "92400                                               1.05               \n",
       "92401                                               0.21               \n",
       "92402                                               0.00               \n",
       "92403                                               0.02               \n",
       "\n",
       "       Disponibilité de protéines en quantité (g/personne/jour)  \\\n",
       "240                                                 0.77          \n",
       "241                                                 0.02          \n",
       "242                                                 0.03          \n",
       "243                                                 0.00          \n",
       "244                                                 0.05          \n",
       "...                                                  ...          \n",
       "92399                                               0.83          \n",
       "92400                                               1.69          \n",
       "92401                                               1.12          \n",
       "92402                                               0.00          \n",
       "92403                                               0.02          \n",
       "\n",
       "       Disponibilité intérieure  Exportations - Quantité  \\\n",
       "240                  53000000.0                      0.0   \n",
       "241                  41000000.0                2000000.0   \n",
       "242                   2000000.0                      0.0   \n",
       "243                         0.0                      0.0   \n",
       "244                  82000000.0                      0.0   \n",
       "...                         ...                      ...   \n",
       "92399                37000000.0                      0.0   \n",
       "92400                70000000.0                      0.0   \n",
       "92401                34000000.0                3000000.0   \n",
       "92402                 4000000.0                      0.0   \n",
       "92403                 1000000.0                      0.0   \n",
       "\n",
       "       Importations - Quantité  Nourriture     Pertes  Production  Semences  \\\n",
       "240                        0.0  53000000.0        0.0  53000000.0       0.0   \n",
       "241                 40000000.0  39000000.0  2000000.0   3000000.0       0.0   \n",
       "242                  2000000.0   2000000.0        0.0         0.0       0.0   \n",
       "243                        0.0         0.0        0.0         0.0       0.0   \n",
       "244                 82000000.0  82000000.0        0.0         0.0       0.0   \n",
       "...                        ...         ...        ...         ...       ...   \n",
       "92399                6000000.0  37000000.0        0.0  32000000.0       0.0   \n",
       "92400                6000000.0  70000000.0        0.0  64000000.0       0.0   \n",
       "92401                1000000.0  32000000.0        0.0  36000000.0       0.0   \n",
       "92402                2000000.0   4000000.0        0.0   2000000.0       0.0   \n",
       "92403                      0.0   1000000.0        0.0   1000000.0       0.0   \n",
       "\n",
       "       Traitement  Variation de stock  \n",
       "240           0.0                 0.0  \n",
       "241           0.0                 0.0  \n",
       "242           0.0                 0.0  \n",
       "243           0.0                 0.0  \n",
       "244           0.0                 0.0  \n",
       "...           ...                 ...  \n",
       "92399         0.0                 0.0  \n",
       "92400         0.0                 0.0  \n",
       "92401         0.0                 0.0  \n",
       "92402         0.0                 0.0  \n",
       "92403         0.0                 0.0  \n",
       "\n",
       "[15416 rows x 20 columns]"
      ]
     },
     "execution_count": 34,
     "metadata": {},
     "output_type": "execute_result"
    }
   ],
   "source": [
    "#Affichage du nouveau dataframe\n",
    "df.query('Année == 2017')"
   ]
  },
  {
   "cell_type": "code",
   "execution_count": 35,
   "id": "5305ba25",
   "metadata": {},
   "outputs": [
    {
     "name": "stdout",
     "output_type": "stream",
     "text": [
      "Le nombre de kcal disponibles mondialement par an est: 7635429388975815\n"
     ]
    }
   ],
   "source": [
    "#Création de la colonne dispo_kcal avec calcul des kcal disponibles mondialement\n",
    "df_filter = df[df.Année == 2017]\n",
    "df_region = df_filter.groupby(['Zone']).agg(dispo_kcal=('Disponibilité alimentaire (Kcal/personne/jour)', 'sum'), population=('Population', 'mean'))\n",
    "df_region['dispo_kcal'] = df_region['dispo_kcal'].mul(df_region['population'])\n",
    "df_dispo = df_region['dispo_kcal'].sum()*365\n",
    "print(\"Le nombre de kcal disponibles mondialement par an est: {}\".format(df_dispo.astype(int)))"
   ]
  },
  {
   "cell_type": "code",
   "execution_count": 36,
   "id": "a6d4af90",
   "metadata": {},
   "outputs": [
    {
     "name": "stdout",
     "output_type": "stream",
     "text": [
      "Le nombre d'humains pouvant être nourris est: 8367593850\n"
     ]
    }
   ],
   "source": [
    "#Calcul du nombre d'humains pouvant être nourris\n",
    "print(\"Le nombre d'humains pouvant être nourris est: {}\".format(int(df_dispo / (2500 * 365))))"
   ]
  },
  {
   "cell_type": "markdown",
   "id": "e97c8886",
   "metadata": {},
   "source": [
    "<div style=\"border: 1px solid RGB(0,150,250);\" >\n",
    "<h3 style=\"margin: auto; padding: 20px; color: RGB(0,150,250); \">3.3 - Nombre théorique de personne qui pourrait être nourrie avec les produits végétaux</h3>\n",
    "</div>"
   ]
  },
  {
   "cell_type": "code",
   "execution_count": 37,
   "id": "c2e3c87c",
   "metadata": {},
   "outputs": [],
   "source": [
    "#Transfert des données avec les végétaux dans un nouveau dataframe\n",
    "df_region_vegetaux = df_filter[df_filter['Origine'].str.contains('vegetale')].groupby(['Zone']).agg(dispo_kcal=('Disponibilité alimentaire (Kcal/personne/jour)', 'sum'), population=('Population', 'mean'))"
   ]
  },
  {
   "cell_type": "code",
   "execution_count": 38,
   "id": "534f3ad7",
   "metadata": {},
   "outputs": [
    {
     "name": "stdout",
     "output_type": "stream",
     "text": [
      "Le nombre de kcal disponibles mondialement par an pour les végétaux est: 6300178937197865\n"
     ]
    }
   ],
   "source": [
    "#Calcul du nombre de kcal disponible pour les végétaux\n",
    "df_region_vegetaux['dispo_kcal'] = df_region_vegetaux['dispo_kcal'].mul(df_region['population'])\n",
    "df_dispo_vegetaux = df_region_vegetaux['dispo_kcal'].sum()*365\n",
    "print(\"Le nombre de kcal disponibles mondialement par an pour les végétaux est: {}\".format(df_dispo_vegetaux.astype(int)))"
   ]
  },
  {
   "cell_type": "code",
   "execution_count": 39,
   "id": "8c82da41",
   "metadata": {},
   "outputs": [
    {
     "name": "stdout",
     "output_type": "stream",
     "text": [
      "Le nombre d'humains pouvant être nourris avec les végétaux est: 6904305684\n"
     ]
    }
   ],
   "source": [
    "#Calcul du nombre d'humains pouvant être nourris avec les végétaux\n",
    "print(\"Le nombre d'humains pouvant être nourris avec les végétaux est: {}\".format(format(int(df_dispo_vegetaux / (2500 * 365)))))"
   ]
  },
  {
   "cell_type": "markdown",
   "id": "cd07afb1",
   "metadata": {},
   "source": [
    "<div style=\"border: 1px solid RGB(0,150,250);\" >\n",
    "<h3 style=\"margin: auto; padding: 20px; color: RGB(0,150,250); \">3.4 - Utilisation de la disponibilité intérieure</h3>\n",
    "</div>"
   ]
  },
  {
   "cell_type": "code",
   "execution_count": 41,
   "id": "71328746",
   "metadata": {},
   "outputs": [
    {
     "name": "stdout",
     "output_type": "stream",
     "text": [
      "La disponibilité totale est: 9733927000000\n"
     ]
    }
   ],
   "source": [
    "#Calcul de la disponibilité totale\n",
    "df_sum_region = df_filter.groupby(['Zone']).apply(sum).iloc[:,[5,6]+[i for i in range(11,19)]]\n",
    "print(\"La disponibilité totale est: {}\".format(df_sum_region['Disponibilité intérieure'].sum().astype(int)))"
   ]
  },
  {
   "cell_type": "code",
   "execution_count": 42,
   "id": "03248095",
   "metadata": {},
   "outputs": [
    {
     "name": "stdout",
     "output_type": "stream",
     "text": [
      "La proportion de l'élément Aliments pour animaux par rapport à la disponibilité intérieure est de: 13.23%\n",
      "La proportion de l'élément Nourriture par rapport à la disponibilité intérieure est de: 49.37%\n",
      "La proportion de l'élément Pertes par rapport à la disponibilité intérieure est de: 4.65%\n"
     ]
    }
   ],
   "source": [
    "#création d'une boucle for pour afficher les différentes valeurs en fonction des colonnes aliments pour animaux, pertes, nourritures, \n",
    "for (columnName, columnData) in df_sum_region.items():\n",
    "    if columnName in ('Aliments pour animaux', 'Pertes', 'Nourriture'):\n",
    "        print(\"La proportion de l'élément {} par rapport à la disponibilité intérieure est de: {:0.2f}%\".format(columnName, ((sum(columnData)/df_sum_region['Disponibilité intérieure'].sum().astype(int))*100)))"
   ]
  },
  {
   "cell_type": "markdown",
   "id": "141d05df",
   "metadata": {},
   "source": [
    "<div style=\"border: 1px solid RGB(0,150,250);\" >\n",
    "<h3 style=\"margin: auto; padding: 20px; color: RGB(0,150,250); \">3.5 - Utilisation des céréales</h3>\n",
    "</div>"
   ]
  },
  {
   "cell_type": "code",
   "execution_count": 43,
   "id": "c27448ff",
   "metadata": {},
   "outputs": [],
   "source": [
    "#Création d'une liste avec toutes les variables\n",
    "lst_cereales = ['Blé', 'Riz (Eq Blanchi)', 'Orge', 'Maïs', 'Seigle', 'Avoine', 'Millet', 'Sorgho', 'Céréales, Autres']"
   ]
  },
  {
   "cell_type": "code",
   "execution_count": 44,
   "id": "5dc5586d",
   "metadata": {},
   "outputs": [],
   "source": [
    "#Création d'un dataframe avec les informations uniquement pour ces céréales\n",
    "df_cereales = df.query('Produit in @lst_cereales')"
   ]
  },
  {
   "cell_type": "code",
   "execution_count": 45,
   "id": "8365de95",
   "metadata": {},
   "outputs": [
    {
     "name": "stdout",
     "output_type": "stream",
     "text": [
      "La proportion d'alimentation animale est de: 36.14%\n"
     ]
    }
   ],
   "source": [
    "#Affichage de la proportion d'alimentation animale\n",
    "print(\"La proportion d'alimentation animale est de: {:0.2f}%\".format(((df_cereales['Aliments pour animaux']).sum()/df_cereales['Disponibilité intérieure'].sum())*100))"
   ]
  },
  {
   "cell_type": "code",
   "execution_count": 46,
   "id": "6f5e93c7",
   "metadata": {},
   "outputs": [
    {
     "name": "stdout",
     "output_type": "stream",
     "text": [
      "La proportion d'alimentation humaine est de: 42.91%\n"
     ]
    }
   ],
   "source": [
    "#Affichage de la proportion d'alimentation humaine\n",
    "print(\"La proportion d'alimentation humaine est de: {:0.2f}%\".format((((df_cereales['Nourriture']).sum())/df_cereales['Disponibilité intérieure'].sum())*100))"
   ]
  },
  {
   "cell_type": "markdown",
   "id": "a603be79",
   "metadata": {},
   "source": [
    "<div style=\"border: 1px solid RGB(0,150,250);\" >\n",
    "<h3 style=\"margin: auto; padding: 20px; color: RGB(0,150,250); \">3.6 - Pays avec la proportion de personnes sous-alimentée la plus forte en 2017</h3>\n",
    "</div>"
   ]
  },
  {
   "cell_type": "code",
   "execution_count": 47,
   "id": "1884c270",
   "metadata": {},
   "outputs": [],
   "source": [
    "#Création de la colonne proportion par pays\n",
    "ds_filter_region = ds_filter.groupby(['Zone']).agg(sous_nutrition=('sous_nutrition', 'sum'), population=('Population', 'mean'))\n",
    "ds_pppsa = (ds_filter_region['sous_nutrition'] / ds_filter_region['population']).mul(100).sort_values(ascending=False).round(2).astype('string') + '%'"
   ]
  },
  {
   "cell_type": "code",
   "execution_count": 48,
   "id": "25a185b6",
   "metadata": {},
   "outputs": [
    {
     "name": "stdout",
     "output_type": "stream",
     "text": [
      "Liste des 10 pays qui ont la proportion de personnes sous-alimentée la plus forte en 2017: \n",
      "Haïti                                         48.26%\n",
      "République populaire démocratique de Corée    47.19%\n",
      "Madagascar                                    41.06%\n",
      "Libéria                                       38.28%\n",
      "Lesotho                                       38.25%\n",
      "Tchad                                         37.96%\n",
      "Rwanda                                        35.06%\n",
      "Mozambique                                    32.81%\n",
      "Timor-Leste                                   32.17%\n",
      "Afghanistan                                   28.93%\n"
     ]
    }
   ],
   "source": [
    "#affichage après trie des 10 pires pays\n",
    "print(\"Liste des 10 pays qui ont la proportion de personnes sous-alimentée la plus forte en 2017: \\n{}\".format(ds_pppsa.head(10).to_string(header=None)))"
   ]
  },
  {
   "cell_type": "markdown",
   "id": "4f610008",
   "metadata": {},
   "source": [
    "<div style=\"border: 1px solid RGB(0,150,250);\" >\n",
    "<h3 style=\"margin: auto; padding: 20px; color: RGB(0,150,250); \">3.7 - Pays qui ont le plus bénéficié d'aide alimentaire depuis 2013</h3>\n",
    "</div>"
   ]
  },
  {
   "cell_type": "code",
   "execution_count": 49,
   "id": "ff1b24a3",
   "metadata": {},
   "outputs": [],
   "source": [
    "#calcul du total de l'aide alimentaire par pays\n",
    "aide_alimentaire_region = aide_alimentaire[aide_alimentaire.Année >= 2013].groupby(['Zone']).agg(Valeur=('Valeur', 'sum'))"
   ]
  },
  {
   "cell_type": "code",
   "execution_count": 50,
   "id": "ee1ac6fb",
   "metadata": {},
   "outputs": [
    {
     "name": "stdout",
     "output_type": "stream",
     "text": [
      "Liste des 10 pays qui ont bénéficié le plus de l'aide alimentaire: \n",
      "République arabe syrienne           1858943000\n",
      "Éthiopie                            1381294000\n",
      "Yémen                               1206484000\n",
      "Soudan du Sud                        695248000\n",
      "Soudan                               669784000\n",
      "Kenya                                552836000\n",
      "Bangladesh                           348188000\n",
      "Somalie                              292678000\n",
      "République démocratique du Congo     288502000\n",
      "Niger                                276344000\n"
     ]
    }
   ],
   "source": [
    "#affichage après trie des 10 pays qui ont bénéficié le plus de l'aide alimentaire\n",
    "liste_pays = aide_alimentaire_region.groupby(\"Zone\")['Valeur'].sum().sort_values(ascending=False).head(10)\n",
    "print(\"Liste des 10 pays qui ont bénéficié le plus de l'aide alimentaire: \\n{}\".format(liste_pays.to_string(header=None)))"
   ]
  },
  {
   "cell_type": "markdown",
   "id": "a361ce61",
   "metadata": {},
   "source": [
    "<div style=\"border: 1px solid RGB(0,150,250);\" >\n",
    "<h3 style=\"margin: auto; padding: 20px; color: RGB(0,150,250); \">3.8 - Evolution des 5 pays qui ont le plus bénéficiés de l'aide alimentaire entre 2013 et 2016</h3>\n",
    "</div>"
   ]
  },
  {
   "cell_type": "code",
   "execution_count": 51,
   "id": "09d55114",
   "metadata": {},
   "outputs": [],
   "source": [
    "#Création d'un dataframe avec la zone, l'année et l'aide alimentaire puis groupby sur zone et année \n",
    "aide_alimentaire_evolution = aide_alimentaire[aide_alimentaire.Année.isin([2013,2014,2015,2016])].groupby(['Zone','Année']).agg(Valeur=('Valeur', 'sum'))"
   ]
  },
  {
   "cell_type": "code",
   "execution_count": 52,
   "id": "6bd577b0",
   "metadata": {},
   "outputs": [],
   "source": [
    "#Création d'une liste contenant les 5 pays qui ont le plus bénéficiées de l'aide alimentaire\n",
    "grp_pays_alim = aide_alimentaire_evolution.groupby(\"Zone\")['Valeur'].sum().reset_index()\n",
    "grp_pays_alim = grp_pays_alim.sort_values('Valeur', ascending=False).head(5)\n",
    "lst_pays_beneficiaire = grp_pays_alim['Zone'].values.tolist()"
   ]
  },
  {
   "cell_type": "code",
   "execution_count": 53,
   "id": "41612dbd",
   "metadata": {},
   "outputs": [],
   "source": [
    "#On filtre sur le dataframe avec notre liste\n",
    "df_filter_evolution = aide_alimentaire_evolution.query('Zone in @lst_pays_beneficiaire')"
   ]
  },
  {
   "cell_type": "code",
   "execution_count": 54,
   "id": "5680e72d",
   "metadata": {},
   "outputs": [
    {
     "data": {
      "text/html": [
       "<style type=\"text/css\">\n",
       "</style>\n",
       "<table id=\"T_1bf9b\">\n",
       "  <thead>\n",
       "    <tr>\n",
       "      <th class=\"blank level0\" >&nbsp;</th>\n",
       "      <th id=\"T_1bf9b_level0_col0\" class=\"col_heading level0 col0\" >Zone</th>\n",
       "      <th id=\"T_1bf9b_level0_col1\" class=\"col_heading level0 col1\" >2013</th>\n",
       "      <th id=\"T_1bf9b_level0_col2\" class=\"col_heading level0 col2\" >2014</th>\n",
       "      <th id=\"T_1bf9b_level0_col3\" class=\"col_heading level0 col3\" >2015</th>\n",
       "      <th id=\"T_1bf9b_level0_col4\" class=\"col_heading level0 col4\" >2016</th>\n",
       "    </tr>\n",
       "  </thead>\n",
       "  <tbody>\n",
       "    <tr>\n",
       "      <th id=\"T_1bf9b_level0_row0\" class=\"row_heading level0 row0\" >0</th>\n",
       "      <td id=\"T_1bf9b_row0_col0\" class=\"data row0 col0\" >République arabe syrienne</td>\n",
       "      <td id=\"T_1bf9b_row0_col1\" class=\"data row0 col1\" >563566000</td>\n",
       "      <td id=\"T_1bf9b_row0_col2\" class=\"data row0 col2\" >651870000</td>\n",
       "      <td id=\"T_1bf9b_row0_col3\" class=\"data row0 col3\" >524949000</td>\n",
       "      <td id=\"T_1bf9b_row0_col4\" class=\"data row0 col4\" >118558000</td>\n",
       "    </tr>\n",
       "    <tr>\n",
       "      <th id=\"T_1bf9b_level0_row1\" class=\"row_heading level0 row1\" >1</th>\n",
       "      <td id=\"T_1bf9b_row1_col0\" class=\"data row1 col0\" >Éthiopie</td>\n",
       "      <td id=\"T_1bf9b_row1_col1\" class=\"data row1 col1\" >591404000</td>\n",
       "      <td id=\"T_1bf9b_row1_col2\" class=\"data row1 col2\" >586624000</td>\n",
       "      <td id=\"T_1bf9b_row1_col3\" class=\"data row1 col3\" >203266000</td>\n",
       "      <td id=\"T_1bf9b_row1_col4\" class=\"data row1 col4\" >0</td>\n",
       "    </tr>\n",
       "    <tr>\n",
       "      <th id=\"T_1bf9b_level0_row2\" class=\"row_heading level0 row2\" >2</th>\n",
       "      <td id=\"T_1bf9b_row2_col0\" class=\"data row2 col0\" >Yémen</td>\n",
       "      <td id=\"T_1bf9b_row2_col1\" class=\"data row2 col1\" >264764000</td>\n",
       "      <td id=\"T_1bf9b_row2_col2\" class=\"data row2 col2\" >103840000</td>\n",
       "      <td id=\"T_1bf9b_row2_col3\" class=\"data row2 col3\" >372306000</td>\n",
       "      <td id=\"T_1bf9b_row2_col4\" class=\"data row2 col4\" >465574000</td>\n",
       "    </tr>\n",
       "    <tr>\n",
       "      <th id=\"T_1bf9b_level0_row3\" class=\"row_heading level0 row3\" >3</th>\n",
       "      <td id=\"T_1bf9b_row3_col0\" class=\"data row3 col0\" >Soudan du Sud</td>\n",
       "      <td id=\"T_1bf9b_row3_col1\" class=\"data row3 col1\" >196330000</td>\n",
       "      <td id=\"T_1bf9b_row3_col2\" class=\"data row3 col2\" >450610000</td>\n",
       "      <td id=\"T_1bf9b_row3_col3\" class=\"data row3 col3\" >48308000</td>\n",
       "      <td id=\"T_1bf9b_row3_col4\" class=\"data row3 col4\" >0</td>\n",
       "    </tr>\n",
       "    <tr>\n",
       "      <th id=\"T_1bf9b_level0_row4\" class=\"row_heading level0 row4\" >4</th>\n",
       "      <td id=\"T_1bf9b_row4_col0\" class=\"data row4 col0\" >Soudan</td>\n",
       "      <td id=\"T_1bf9b_row4_col1\" class=\"data row4 col1\" >330230000</td>\n",
       "      <td id=\"T_1bf9b_row4_col2\" class=\"data row4 col2\" >321904000</td>\n",
       "      <td id=\"T_1bf9b_row4_col3\" class=\"data row4 col3\" >17650000</td>\n",
       "      <td id=\"T_1bf9b_row4_col4\" class=\"data row4 col4\" >0</td>\n",
       "    </tr>\n",
       "  </tbody>\n",
       "</table>\n"
      ],
      "text/plain": [
       "<pandas.io.formats.style.Styler at 0x7f53b1bd51d0>"
      ]
     },
     "execution_count": 54,
     "metadata": {},
     "output_type": "execute_result"
    }
   ],
   "source": [
    "# Affichage des pays avec l'aide alimentaire par année\n",
    "df_evolution_pivoted = df_filter_evolution.pivot_table(index='Zone', columns='Année', values='Valeur')\n",
    "df_evolution_pivoted = df_evolution_pivoted.fillna(0).astype(int)\n",
    "df_dummy = pd.Series(lst_pays_beneficiaire, name = 'Zone').to_frame()\n",
    "sorted_df = pd.merge(df_dummy, df_evolution_pivoted, on = 'Zone', how = 'left')\n",
    "sorted_df.style"
   ]
  },
  {
   "cell_type": "markdown",
   "id": "bd392dac",
   "metadata": {},
   "source": [
    "<div style=\"border: 1px solid RGB(0,150,250);\" >\n",
    "<h3 style=\"margin: auto; padding: 20px; color: RGB(0,150,250); \">3.9 - Pays avec le moins de disponibilité par habitant</h3>\n",
    "</div>"
   ]
  },
  {
   "cell_type": "code",
   "execution_count": 55,
   "id": "fb3a378b",
   "metadata": {},
   "outputs": [],
   "source": [
    "#Calcul de la disponibilité en kcal par personne par jour par pays\n",
    "df_dispo_habitant = df_filter.groupby(['Zone'])['Disponibilité alimentaire (Kcal/personne/jour)'].sum().astype(int).sort_values(ascending=True).head(10)"
   ]
  },
  {
   "cell_type": "code",
   "execution_count": 56,
   "id": "70c0f689",
   "metadata": {},
   "outputs": [
    {
     "name": "stdout",
     "output_type": "stream",
     "text": [
      "Liste des 10 pays qui ont le moins de dispo alimentaire par personne: \n",
      "République centrafricaine                     1879\n",
      "Zambie                                        1924\n",
      "Madagascar                                    2056\n",
      "Afghanistan                                   2087\n",
      "Haïti                                         2089\n",
      "République populaire démocratique de Corée    2093\n",
      "Tchad                                         2109\n",
      "Zimbabwe                                      2113\n",
      "Ouganda                                       2126\n",
      "Timor-Leste                                   2129\n"
     ]
    }
   ],
   "source": [
    "#Affichage des 10 pays qui ont le moins de dispo alimentaire par personne \n",
    "print(\"Liste des 10 pays qui ont le moins de dispo alimentaire par personne: \\n{}\".format(df_dispo_habitant.to_string(header=None)))"
   ]
  },
  {
   "cell_type": "markdown",
   "id": "2553ed12",
   "metadata": {},
   "source": [
    "<div style=\"border: 1px solid RGB(0,150,250);\" >\n",
    "<h3 style=\"margin: auto; padding: 20px; color: RGB(0,150,250); \">3.10 - Pays avec le plus de disponibilité par habitant</h3>\n",
    "</div>"
   ]
  },
  {
   "cell_type": "code",
   "execution_count": 57,
   "id": "63e835c6",
   "metadata": {},
   "outputs": [
    {
     "name": "stdout",
     "output_type": "stream",
     "text": [
      "Liste des 10 pays qui ont le plus de dispo alimentaire par personne: \n",
      "Autriche                 3770\n",
      "Belgique                 3737\n",
      "Turquie                  3708\n",
      "États-Unis d'Amérique    3682\n",
      "Israël                   3610\n",
      "Irlande                  3602\n",
      "Italie                   3578\n",
      "Luxembourg               3540\n",
      "Égypte                   3518\n",
      "Allemagne                3503\n"
     ]
    }
   ],
   "source": [
    "#Affichage des 10 pays qui ont le plus de dispo alimentaire par personne \n",
    "df_dispo_habitant = df_filter.groupby(['Zone'])['Disponibilité alimentaire (Kcal/personne/jour)'].sum().astype(int).sort_values(ascending=False).head(10)\n",
    "print(\"Liste des 10 pays qui ont le plus de dispo alimentaire par personne: \\n{}\".format(df_dispo_habitant.to_string(header=None)))"
   ]
  },
  {
   "cell_type": "markdown",
   "id": "58d7248b",
   "metadata": {},
   "source": [
    "<div style=\"border: 1px solid RGB(0,150,250);\" >\n",
    "<h3 style=\"margin: auto; padding: 20px; color: RGB(0,150,250); \">3.11 - Exemple de la Thaïlande pour le Manioc</h3>\n",
    "</div>"
   ]
  },
  {
   "cell_type": "code",
   "execution_count": 58,
   "id": "ec9ca912",
   "metadata": {},
   "outputs": [],
   "source": [
    "#création d'un dataframe avec uniquement la Thaïlande\n",
    "ds_region_thailande = ds.query('Zone == \"Thaïlande\"')"
   ]
  },
  {
   "cell_type": "code",
   "execution_count": 59,
   "id": "85693912",
   "metadata": {},
   "outputs": [
    {
     "name": "stdout",
     "output_type": "stream",
     "text": [
      "Sous nutrition en Thaïlande et proportion avec la population par année: \n",
      " Année  Population  sous_nutrition pourcentage\n",
      "  2013    68144518         6200000        9.1%\n",
      "  2014    68438746         6000000       8.77%\n",
      "  2015    68714511         5900000       8.59%\n",
      "  2016    68971308         6000000        8.7%\n",
      "  2017    69209810         6200000       8.96%\n",
      "  2018    69428453         6500000       9.36%\n"
     ]
    }
   ],
   "source": [
    "#Calcul de la sous nutrition en Thaïlande\n",
    "ds_region_thailande.groupby(['Année'])['sous_nutrition'].sum().astype(int)\n",
    "col = ds_region_thailande.apply(lambda row: row['sous_nutrition'] / row['Population']*100, axis=1)\n",
    "ds_region_thailande = ds_region_thailande.assign(pourcentage=col.values)\n",
    "ds_region_thailande['pourcentage'] = ds_region_thailande['pourcentage'].round(2).astype('string') + '%'\n",
    "ds_region_thailande = ds_region_thailande.astype({\"Population\":\"int\", \"sous_nutrition\":\"int\"})\n",
    "ds_region_thailande = ds_region_thailande.drop(['Zone'], axis=1)\n",
    "print(\"Sous nutrition en Thaïlande et proportion avec la population par année: \\n{}\".format(ds_region_thailande.to_string(index=False)))"
   ]
  },
  {
   "cell_type": "code",
   "execution_count": 60,
   "id": "f19cd96e",
   "metadata": {},
   "outputs": [
    {
     "name": "stdout",
     "output_type": "stream",
     "text": [
      "La proportion exportée en fonction de la production dans le pays est de: 83.41%\n"
     ]
    }
   ],
   "source": [
    "# On calcule la proportion exportée en fonction de la production dans le pays\n",
    "ds_region_thailande = df_filter.query('Zone == \"Thaïlande\" & Produit == \"Manioc\"')\n",
    "ds_manioc_thailande = ds_region_thailande.groupby(['Zone']).agg(exp=('Exportations - Quantité', 'sum'),prod=('Production', 'sum'))\n",
    "perc_manioc = (ds_manioc_thailande['exp']/ds_manioc_thailande['prod'])*100\n",
    "print(\"La proportion exportée en fonction de la production dans le pays est de: {}%\".format(perc_manioc.round(2).to_string(header=None, index=False)))"
   ]
  },
  {
   "cell_type": "markdown",
   "id": "7de4e914",
   "metadata": {},
   "source": [
    "<div style=\"background-color: RGB(0,150,250);\" >\n",
    "<h2 style=\"margin: auto; padding: 20px; color:#fff; \">Etape 6 - Analyse complémentaires</h2>\n",
    "</div>"
   ]
  },
  {
   "cell_type": "code",
   "execution_count": 61,
   "id": "e42062e9",
   "metadata": {},
   "outputs": [
    {
     "data": {
      "text/plain": [
       "<Axes: xlabel='sous_nutrition', ylabel='population'>"
      ]
     },
     "execution_count": 61,
     "metadata": {},
     "output_type": "execute_result"
    },
    {
     "data": {
      "image/png": "[encoded data removed]",
      "text/plain": [
       "<Figure size 1500x800 with 1 Axes>"
      ]
     },
     "metadata": {},
     "output_type": "display_data"
    }
   ],
   "source": [
    "#Rajouter en dessous toutes les analyses complémtaires suite à la demande de mélanie :\n",
    "#\"et toutes les infos que tu trouverais utiles pour mettre en relief les pays qui semblent être \n",
    "#le plus en difficulté au niveau alimentaire\"\n",
    "plt.figure(figsize=(15,8))\n",
    "ds_plot = ds_filter_region.sort_values(by='sous_nutrition', ascending=False).head(10).tail(9)\n",
    "ds_rplot = ds_plot.sort_values(by='sous_nutrition', ascending=True)\n",
    "ax = sns.barplot(data=ds_plot, x=ds_plot.sous_nutrition, y=ds_plot.population, hue=\"Zone\", palette='dark:lightblue')\n",
    "for c in ax.patches:\n",
    "    c.set_zorder(0)\n",
    "sns.regplot(x=np.arange(0, len(ds_rplot.sous_nutrition)), y=ds_rplot.population, ax=ax)"
   ]
  },
  {
   "cell_type": "code",
   "execution_count": 62,
   "id": "057adf89-8e46-4592-9d90-636f53f7421d",
   "metadata": {},
   "outputs": [],
   "source": [
    "#On peut constater globalement que le rapport entre la sous nutrition et le nombre d'habitants reste constant dans les pays où la sous alimentation est la plus élevée."
   ]
  },
  {
   "cell_type": "code",
   "execution_count": 64,
   "id": "26a9f84f-d332-4917-81a2-a2214ade14e4",
   "metadata": {},
   "outputs": [
    {
     "data": {
      "text/plain": [
       "Text(28.999999999999993, 0.5, 'Production')"
      ]
     },
     "execution_count": 64,
     "metadata": {},
     "output_type": "execute_result"
    },
    {
     "data": {
      "image/png": "[encoded data removed]",
      "text/plain": [
       "<Figure size 900x600 with 1 Axes>"
      ]
     },
     "metadata": {},
     "output_type": "display_data"
    }
   ],
   "source": [
    "df_dvp = df_filter.groupby('Zone')[['Disponibilité intérieure', 'Production']].apply(sum).reset_index()\n",
    "df_sort_dispo = df_dvp.sort_values(by='Disponibilité intérieure', ascending=True).head(10)\n",
    "sns.lmplot(x='Disponibilité intérieure', y='Production', data = df_sort_dispo, height=6, aspect=1.5)\n",
    "plt.xlabel('Disponibilité intérieure')\n",
    "plt.ylabel('Production')"
   ]
  },
  {
   "cell_type": "code",
   "execution_count": null,
   "id": "eb54654d-a40c-431f-8dfe-39ce0577da9e",
   "metadata": {},
   "outputs": [],
   "source": [
    "#On remarque que la disponibilité intérieure ne peut augmenter que si la production augmente également."
   ]
  }
 ],
 "metadata": {
  "kernelspec": {
   "display_name": "Python 3 (ipykernel)",
   "language": "python",
   "name": "python3"
  },
  "language_info": {
   "codemirror_mode": {
    "name": "ipython",
    "version": 3
   },
   "file_extension": ".py",
   "mimetype": "text/x-python",
   "name": "python",
   "nbconvert_exporter": "python",
   "pygments_lexer": "ipython3",
   "version": "3.11.2"
  }
 },
 "nbformat": 4,
 "nbformat_minor": 5
}
