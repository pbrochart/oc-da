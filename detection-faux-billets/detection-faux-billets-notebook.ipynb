{
 "cells": [
  {
   "cell_type": "markdown",
   "id": "0be44c99-b26c-4bf1-ad5b-b87d20514435",
   "metadata": {},
   "source": [
    "<div style=\"display: flex; background-color: RGB(255,114,0);\" >\n",
    "<h1 style=\"margin: auto; padding: 30px; \">PROGRAMME DE DETECTION DE FAUX BILLETS</h1>\n",
    "</div>"
   ]
  },
  {
   "cell_type": "markdown",
   "id": "bd657e2f-1547-47e3-a7a8-72444638c83d",
   "metadata": {},
   "source": [
    "<div style=\"background-color: RGB(51,165,182);\" >\n",
    "<h2 style=\"margin: auto; padding: 20px; color:#fff; \">Etape 1 - Importation des librairies</h2>\n",
    "</div>"
   ]
  },
  {
   "cell_type": "markdown",
   "id": "fac6483d-9e44-4029-bfc8-daeed48dfd5f",
   "metadata": {},
   "source": [
    "<div style=\"border: 1px solid RGB(51,165,182);\" >\n",
    "<h3 style=\"margin: auto; padding: 20px; color: RGB(51,165,182); \">1.1 - Importation des librairies</h3>\n",
    "</div>"
   ]
  },
  {
   "cell_type": "code",
   "execution_count": 1,
   "id": "7f1bef5f-e738-45e5-92db-cec1f9dcab60",
   "metadata": {},
   "outputs": [],
   "source": [
    "#Importation de la librairie Pandas\n",
    "import pandas as pd\n",
    "#Importation de la librairie seaborn\n",
    "import seaborn as sns\n",
    "#Importation de la librairie pyplot\n",
    "import matplotlib.pyplot as plt\n",
    "#Importation de la librairie Sklearn\n",
    "import sklearn as sk\n",
    "from sklearn import cluster\n",
    "#Importation de la librairie de l'Analyse de la composante principale\n",
    "from sklearn.decomposition import PCA\n",
    "#Importation de la librairie pickle\n",
    "import pickle"
   ]
  },
  {
   "cell_type": "markdown",
   "id": "7469e523-28a0-459e-948b-2dc7e1e88b38",
   "metadata": {},
   "source": [
    "<div style=\"background-color: RGB(51,165,182);\" >\n",
    "<h2 style=\"margin: auto; padding: 20px; color:#fff; \">Etape 2 - Programme de détection de faux billets</h2>\n",
    "</div>"
   ]
  },
  {
   "cell_type": "markdown",
   "id": "11f97de2-5298-4e78-b589-c3b1b645cc17",
   "metadata": {},
   "source": [
    "<div style=\"border: 1px solid RGB(51,165,182);\" >\n",
    "<h3 style=\"margin: auto; padding: 20px; color: RGB(51,165,182); \">2.1 - Chargement du modèle d'entrainement</h3>\n",
    "</div>"
   ]
  },
  {
   "cell_type": "code",
   "execution_count": 2,
   "id": "0fe1a969-c88f-41af-b9c3-d7caa8889fab",
   "metadata": {},
   "outputs": [],
   "source": [
    "training_dict = pickle.load(open('training_model.pkl', 'rb'))\n",
    "std_scale = training_dict[0]\n",
    "clf = training_dict[1]\n",
    "pca = training_dict[2]"
   ]
  },
  {
   "cell_type": "code",
   "execution_count": 3,
   "id": "9cebd746-ebe8-427a-8b54-e97b4ab95587",
   "metadata": {},
   "outputs": [
    {
     "data": {
      "image/png": "[encoded data removed]",
      "text/plain": [
       "<Figure size 600x500 with 1 Axes>"
      ]
     },
     "metadata": {},
     "output_type": "display_data"
    },
    {
     "data": {
      "text/html": [
       "<div>\n",
       "<style scoped>\n",
       "    .dataframe tbody tr th:only-of-type {\n",
       "        vertical-align: middle;\n",
       "    }\n",
       "\n",
       "    .dataframe tbody tr th {\n",
       "        vertical-align: top;\n",
       "    }\n",
       "\n",
       "    .dataframe thead th {\n",
       "        text-align: right;\n",
       "    }\n",
       "</style>\n",
       "<table border=\"1\" class=\"dataframe\">\n",
       "  <thead>\n",
       "    <tr style=\"text-align: right;\">\n",
       "      <th></th>\n",
       "      <th>Prédiction</th>\n",
       "      <th>Probabilité faux billet</th>\n",
       "      <th>Probabilité vrai billet</th>\n",
       "      <th>id</th>\n",
       "    </tr>\n",
       "  </thead>\n",
       "  <tbody>\n",
       "    <tr>\n",
       "      <th>0</th>\n",
       "      <td>Faux billet</td>\n",
       "      <td>0.999800</td>\n",
       "      <td>1.999544e-04</td>\n",
       "      <td>A_1</td>\n",
       "    </tr>\n",
       "    <tr>\n",
       "      <th>1</th>\n",
       "      <td>Faux billet</td>\n",
       "      <td>0.999999</td>\n",
       "      <td>6.022760e-07</td>\n",
       "      <td>A_2</td>\n",
       "    </tr>\n",
       "    <tr>\n",
       "      <th>2</th>\n",
       "      <td>Faux billet</td>\n",
       "      <td>1.000000</td>\n",
       "      <td>1.951584e-07</td>\n",
       "      <td>A_3</td>\n",
       "    </tr>\n",
       "    <tr>\n",
       "      <th>3</th>\n",
       "      <td>Faux billet</td>\n",
       "      <td>0.816207</td>\n",
       "      <td>1.837927e-01</td>\n",
       "      <td>A_4</td>\n",
       "    </tr>\n",
       "    <tr>\n",
       "      <th>4</th>\n",
       "      <td>Vrai billet</td>\n",
       "      <td>0.000021</td>\n",
       "      <td>9.999793e-01</td>\n",
       "      <td>A_5</td>\n",
       "    </tr>\n",
       "  </tbody>\n",
       "</table>\n",
       "</div>"
      ],
      "text/plain": [
       "    Prédiction  Probabilité faux billet  Probabilité vrai billet   id\n",
       "0  Faux billet                 0.999800             1.999544e-04  A_1\n",
       "1  Faux billet                 0.999999             6.022760e-07  A_2\n",
       "2  Faux billet                 1.000000             1.951584e-07  A_3\n",
       "3  Faux billet                 0.816207             1.837927e-01  A_4\n",
       "4  Vrai billet                 0.000021             9.999793e-01  A_5"
      ]
     },
     "execution_count": 3,
     "metadata": {},
     "output_type": "execute_result"
    }
   ],
   "source": [
    "def detection_faux_billets(input_file):\n",
    " \n",
    "    df_billets = pd.read_csv(input_file)\n",
    "    X = df_billets.drop(['id'], axis=1)    \n",
    "    X = pd.DataFrame(std_scale.transform(X), columns=X.columns)\n",
    "    \n",
    "    y = clf.predict(X)\n",
    "    predictions = []\n",
    "    for i in range(0, len(y)):\n",
    "        predictions.append(y[i])\n",
    "    \n",
    "    predictions = pd.concat([\n",
    "        pd.DataFrame([predictions]).rename(index={0: 'Prédiction'}).T.replace({False: 'Faux billet', True: 'Vrai billet'}),\n",
    "        pd.DataFrame(clf.predict_proba(X)).rename(columns={0: 'Probabilité faux billet', 1: 'Probabilité vrai billet'})], axis=1)\n",
    "    predictions['id'] = df_billets['id'].unique() \n",
    "\n",
    "    n_components = 2\n",
    "    reduced = pca.transform(X)\n",
    "    for i in range(0, n_components):\n",
    "        predictions['PC' + str(i + 1)] = reduced[:, i]   \n",
    "    plt.figure(figsize=(6, 5))\n",
    "    ax = sns.scatterplot(data=predictions.sort_values(by=['Prédiction']), x='PC1', y='PC2', markers=['X','o'],\n",
    "        hue='Prédiction', style='Prédiction', s=100)\n",
    "    predictions.apply(lambda x: ax.text(x['PC1']+0.1, x['PC2'], x['id']), axis=1)\n",
    "\n",
    "    plt.title('Projection des billets sur 2 dimensions')\n",
    "    plt.show()\n",
    "    \n",
    "    return predictions.iloc[:,:-2]\n",
    "    \n",
    "detection_faux_billets('billets_production.csv')"
   ]
  },
  {
   "cell_type": "code",
   "execution_count": null,
   "id": "0e90000f-51b3-4194-95e2-958ba96e0d43",
   "metadata": {},
   "outputs": [],
   "source": []
  }
 ],
 "metadata": {
  "kernelspec": {
   "display_name": "Python 3 (ipykernel)",
   "language": "python",
   "name": "python3"
  },
  "language_info": {
   "codemirror_mode": {
    "name": "ipython",
    "version": 3
   },
   "file_extension": ".py",
   "mimetype": "text/x-python",
   "name": "python",
   "nbconvert_exporter": "python",
   "pygments_lexer": "ipython3",
   "version": "3.11.2"
  }
 },
 "nbformat": 4,
 "nbformat_minor": 5
}
